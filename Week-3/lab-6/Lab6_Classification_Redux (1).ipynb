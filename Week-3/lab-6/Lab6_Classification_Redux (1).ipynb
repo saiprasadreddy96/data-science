{
  "nbformat": 4,
  "nbformat_minor": 0,
  "metadata": {
    "colab": {
      "name": "Lab6_Classification_Redux.ipynb",
      "version": "0.3.2",
      "provenance": [],
      "toc_visible": true
    },
    "kernelspec": {
      "name": "python3",
      "display_name": "Python 3"
    },
    "accelerator": "GPU"
  },
  "cells": [
    {
      "cell_type": "code",
      "metadata": {
        "id": "Ve6YUcqgT2vN",
        "colab_type": "code",
        "colab": {}
      },
      "source": [
        "import pandas as pd\n",
        "import numpy as np\n",
        "import matplotlib.pyplot as plt\n",
        "import matplotlib as mpl\n",
        "import matplotlib.cm as cm\n",
        "import scipy as sp\n",
        "import seaborn as sns\n",
        "from PIL import Image\n",
        "\n",
        "pd.set_option('display.width', 500)\n",
        "pd.set_option('display.max_columns', 100)\n",
        "pd.set_option('display.notebook_repr_html', True)\n",
        "\n",
        "sns.set_style(\"whitegrid\")\n",
        "sns.set_context(\"poster\")"
      ],
      "execution_count": 0,
      "outputs": []
    },
    {
      "cell_type": "code",
      "metadata": {
        "id": "YZakhgW6UxVg",
        "colab_type": "code",
        "colab": {}
      },
      "source": [
        "from sklearn.model_selection import GridSearchCV\n",
        "from sklearn.model_selection import train_test_split\n",
        "from sklearn.metrics import confusion_matrix\n",
        "def cv_optimize(clf, parameters, X, y, n_jobs=1, n_folds=5, score_func=None):\n",
        "    if score_func:\n",
        "        gs = GridSearchCV(clf, param_grid=parameters, cv=n_folds, n_jobs=n_jobs, scoring=score_func)\n",
        "    else:\n",
        "        gs = GridSearchCV(clf, param_grid=parameters, n_jobs=n_jobs, cv=n_folds)\n",
        "    gs.fit(X, y)\n",
        "    print(\"BEST\", gs.best_params_, gs.best_score_, gs.cv_results_)\n",
        "    best = gs.best_estimator_\n",
        "    return best\n",
        "def do_classify(clf, parameters, indf, featurenames, targetname, target1val, mask=None, reuse_split=None, score_func=None, n_folds=5, n_jobs=1):\n",
        "    subdf=indf[featurenames]\n",
        "    X=subdf.values\n",
        "    y=(indf[targetname].values==target1val)*1\n",
        "    if mask.any() !=None:\n",
        "        print(\"using mask\")\n",
        "        Xtrain, Xtest, ytrain, ytest = X[mask], X[~mask], y[mask], y[~mask]\n",
        "    if reuse_split !=None:\n",
        "        print(\"using reuse split\")\n",
        "        Xtrain, Xtest, ytrain, ytest = reuse_split['Xtrain'], reuse_split['Xtest'], reuse_split['ytrain'], reuse_split['ytest']\n",
        "    if parameters:\n",
        "        clf = cv_optimize(clf, parameters, Xtrain, ytrain, n_jobs=n_jobs, n_folds=n_folds, score_func=score_func)\n",
        "    clf=clf.fit(Xtrain, ytrain)\n",
        "    training_accuracy = clf.score(Xtrain, ytrain)\n",
        "    test_accuracy = clf.score(Xtest, ytest)\n",
        "    print(\"############# based on standard predict ################\")\n",
        "    print(\"Accuracy on training data: %0.2f\" % (training_accuracy))\n",
        "    print(\"Accuracy on test data:     %0.2f\" % (test_accuracy))\n",
        "    print(confusion_matrix(ytest, clf.predict(Xtest)))\n",
        "    print(\"########################################################\")\n",
        "    return clf, Xtrain, ytrain, Xtest, ytest"
      ],
      "execution_count": 0,
      "outputs": []
    },
    {
      "cell_type": "code",
      "metadata": {
        "id": "4EW8pc0MWMhw",
        "colab_type": "code",
        "colab": {}
      },
      "source": [
        "from matplotlib.colors import ListedColormap\n",
        "cmap_light = ListedColormap(['#FFAAAA', '#AAFFAA', '#AAAAFF'])\n",
        "cmap_bold = ListedColormap(['#FF0000', '#00FF00', '#0000FF'])\n",
        "cm = plt.cm.RdBu\n",
        "cm_bright = ListedColormap(['#FF0000', '#0000FF'])\n",
        "\n",
        "def points_plot(ax, Xtr, Xte, ytr, yte, clf, mesh=True, colorscale=cmap_light, cdiscrete=cmap_bold, alpha=0.3, psize=10, zfunc=False):\n",
        "    h = .02\n",
        "    X=np.concatenate((Xtr, Xte))\n",
        "    x_min, x_max = X[:, 0].min() - .5, X[:, 0].max() + .5\n",
        "    y_min, y_max = X[:, 1].min() - .5, X[:, 1].max() + .5\n",
        "    xx, yy = np.meshgrid(np.linspace(x_min, x_max, 100),\n",
        "                         np.linspace(y_min, y_max, 100))\n",
        "\n",
        "    #plt.figure(figsize=(10,6))\n",
        "    if mesh:\n",
        "        if zfunc:\n",
        "            p0 = clf.predict_proba(np.c_[xx.ravel(), yy.ravel()])[:, 0]\n",
        "            p1 = clf.predict_proba(np.c_[xx.ravel(), yy.ravel()])[:, 1]\n",
        "            Z=zfunc(p0, p1)\n",
        "        else:\n",
        "            Z = clf.predict(np.c_[xx.ravel(), yy.ravel()])\n",
        "        Z = Z.reshape(xx.shape)\n",
        "        plt.pcolormesh(xx, yy, Z, cmap=cmap_light, alpha=alpha, axes=ax)\n",
        "    ax.scatter(Xtr[:, 0], Xtr[:, 1], c=ytr-1, cmap=cmap_bold, s=psize, alpha=alpha,edgecolor=\"k\")\n",
        "    # and testing points\n",
        "    yact=clf.predict(Xte)\n",
        "    ax.scatter(Xte[:, 0], Xte[:, 1], c=yte-1, cmap=cmap_bold, alpha=alpha, marker=\"s\", s=psize+10)\n",
        "    ax.set_xlim(xx.min(), xx.max())\n",
        "    ax.set_ylim(yy.min(), yy.max())\n",
        "    return ax,xx,yy"
      ],
      "execution_count": 0,
      "outputs": []
    },
    {
      "cell_type": "code",
      "metadata": {
        "id": "XM7zKrYCWalr",
        "colab_type": "code",
        "colab": {}
      },
      "source": [
        "def points_plot_prob(ax, Xtr, Xte, ytr, yte, clf, colorscale=cmap_light, cdiscrete=cmap_bold, ccolor=cm, psize=10, alpha=0.1, prob=True):\n",
        "    ax,xx,yy = points_plot(ax, Xtr, Xte, ytr, yte, clf, mesh=False, colorscale=colorscale, cdiscrete=cdiscrete, psize=psize, alpha=alpha) \n",
        "    if prob:\n",
        "        Z = clf.predict_proba(np.c_[xx.ravel(), yy.ravel()])[:, 1]\n",
        "    else:\n",
        "        Z = clf.decision_function(np.c_[xx.ravel(), yy.ravel()])\n",
        "    Z = Z.reshape(xx.shape)\n",
        "    plt.contourf(xx, yy, Z, cmap=ccolor, alpha=.2, axes=ax)\n",
        "    cs2 = plt.contour(xx, yy, Z, cmap=ccolor, alpha=.6, axes=ax)\n",
        "    plt.clabel(cs2, fmt = '%2.1f', colors = 'k', fontsize=14, axes=ax)\n",
        "    return ax"
      ],
      "execution_count": 0,
      "outputs": []
    },
    {
      "cell_type": "markdown",
      "metadata": {
        "id": "aTZgyLRKWefI",
        "colab_type": "text"
      },
      "source": [
        "# Setting Up the Data"
      ]
    },
    {
      "cell_type": "code",
      "metadata": {
        "id": "olXNPMt6Xhar",
        "colab_type": "code",
        "colab": {}
      },
      "source": [
        "dfhw = pd.read_csv(\"01_heights_weights_gender.csv\")"
      ],
      "execution_count": 0,
      "outputs": []
    },
    {
      "cell_type": "code",
      "metadata": {
        "id": "PaADy4j1Xm0X",
        "colab_type": "code",
        "outputId": "399da254-40d3-44a2-fed4-f6dda88b9627",
        "colab": {
          "base_uri": "https://localhost:8080/",
          "height": 34
        }
      },
      "source": [
        "dfhw.shape"
      ],
      "execution_count": 13,
      "outputs": [
        {
          "output_type": "execute_result",
          "data": {
            "text/plain": [
              "(10000, 3)"
            ]
          },
          "metadata": {
            "tags": []
          },
          "execution_count": 13
        }
      ]
    },
    {
      "cell_type": "code",
      "metadata": {
        "id": "GIdn8_WoXo3y",
        "colab_type": "code",
        "outputId": "a64da16f-6973-49d8-c707-06971a0cd080",
        "colab": {
          "base_uri": "https://localhost:8080/",
          "height": 195
        }
      },
      "source": [
        "dfhw.head()"
      ],
      "execution_count": 14,
      "outputs": [
        {
          "output_type": "execute_result",
          "data": {
            "text/html": [
              "<div>\n",
              "<style scoped>\n",
              "    .dataframe tbody tr th:only-of-type {\n",
              "        vertical-align: middle;\n",
              "    }\n",
              "\n",
              "    .dataframe tbody tr th {\n",
              "        vertical-align: top;\n",
              "    }\n",
              "\n",
              "    .dataframe thead th {\n",
              "        text-align: right;\n",
              "    }\n",
              "</style>\n",
              "<table border=\"1\" class=\"dataframe\">\n",
              "  <thead>\n",
              "    <tr style=\"text-align: right;\">\n",
              "      <th></th>\n",
              "      <th>Gender</th>\n",
              "      <th>Height</th>\n",
              "      <th>Weight</th>\n",
              "    </tr>\n",
              "  </thead>\n",
              "  <tbody>\n",
              "    <tr>\n",
              "      <th>0</th>\n",
              "      <td>Male</td>\n",
              "      <td>73.847017</td>\n",
              "      <td>241.893563</td>\n",
              "    </tr>\n",
              "    <tr>\n",
              "      <th>1</th>\n",
              "      <td>Male</td>\n",
              "      <td>68.781904</td>\n",
              "      <td>162.310473</td>\n",
              "    </tr>\n",
              "    <tr>\n",
              "      <th>2</th>\n",
              "      <td>Male</td>\n",
              "      <td>74.110105</td>\n",
              "      <td>212.740856</td>\n",
              "    </tr>\n",
              "    <tr>\n",
              "      <th>3</th>\n",
              "      <td>Male</td>\n",
              "      <td>71.730978</td>\n",
              "      <td>220.042470</td>\n",
              "    </tr>\n",
              "    <tr>\n",
              "      <th>4</th>\n",
              "      <td>Male</td>\n",
              "      <td>69.881796</td>\n",
              "      <td>206.349801</td>\n",
              "    </tr>\n",
              "  </tbody>\n",
              "</table>\n",
              "</div>"
            ],
            "text/plain": [
              "  Gender     Height      Weight\n",
              "0   Male  73.847017  241.893563\n",
              "1   Male  68.781904  162.310473\n",
              "2   Male  74.110105  212.740856\n",
              "3   Male  71.730978  220.042470\n",
              "4   Male  69.881796  206.349801"
            ]
          },
          "metadata": {
            "tags": []
          },
          "execution_count": 14
        }
      ]
    },
    {
      "cell_type": "code",
      "metadata": {
        "id": "R5b6w6jLXr0L",
        "colab_type": "code",
        "outputId": "8cfba84e-3bef-484a-a955-cebb571b7790",
        "colab": {
          "base_uri": "https://localhost:8080/",
          "height": 34
        }
      },
      "source": [
        "df = dfhw.sample(500, replace = False)\n",
        "np.sum(df.Gender == \"Male\")"
      ],
      "execution_count": 15,
      "outputs": [
        {
          "output_type": "execute_result",
          "data": {
            "text/plain": [
              "223"
            ]
          },
          "metadata": {
            "tags": []
          },
          "execution_count": 15
        }
      ]
    },
    {
      "cell_type": "code",
      "metadata": {
        "id": "PT57DK2cYm-y",
        "colab_type": "code",
        "outputId": "6155d9cf-1205-4c05-b70f-0cc41da90c62",
        "colab": {
          "base_uri": "https://localhost:8080/",
          "height": 50
        }
      },
      "source": [
        "itrain, itest = train_test_split(range(df.shape[0]), train_size=0.6)\n",
        "mask=np.ones(df.shape[0], dtype='int')\n",
        "mask[itrain]=1\n",
        "mask[itest]=0\n",
        "mask = (mask==1)\n",
        "mask[:10]"
      ],
      "execution_count": 16,
      "outputs": [
        {
          "output_type": "execute_result",
          "data": {
            "text/plain": [
              "array([ True, False,  True, False,  True, False, False,  True, False,\n",
              "        True])"
            ]
          },
          "metadata": {
            "tags": []
          },
          "execution_count": 16
        }
      ]
    },
    {
      "cell_type": "markdown",
      "metadata": {
        "id": "oucKKCkSYvRp",
        "colab_type": "text"
      },
      "source": [
        "# Logistic Regression"
      ]
    },
    {
      "cell_type": "code",
      "metadata": {
        "id": "krNsfIn4Yter",
        "colab_type": "code",
        "outputId": "d1d5229d-eb74-4a5f-f680-2afd9160a6dc",
        "colab": {
          "base_uri": "https://localhost:8080/",
          "height": 1000
        }
      },
      "source": [
        "from sklearn.linear_model import LogisticRegression\n",
        "clflog = LogisticRegression()\n",
        "parameters = {\"C\": [0.001, 0.01, 0.1, 1, 10, 100, 1000, 10000]}\n",
        "clflog, Xtrain, ytrain, Xtest, ytest=do_classify(clflog, parameters, df, ['Height','Weight'],'Gender', \"Male\", mask=mask)\n",
        "Xtr=np.concatenate((Xtrain, Xtest))\n",
        "plt.figure()\n",
        "ax=plt.gca()\n",
        "points_plot(ax, Xtrain, Xtest, ytrain, ytest, clflog)"
      ],
      "execution_count": 17,
      "outputs": [
        {
          "output_type": "stream",
          "text": [
            "using mask\n",
            "BEST {'C': 0.001} 0.92 {'mean_fit_time': array([0.00188203, 0.00084734, 0.00086412, 0.00083647, 0.0008697 ,\n",
            "       0.0009305 , 0.00092645, 0.00104194]), 'std_fit_time': array([2.20951985e-03, 4.74475735e-05, 6.67256212e-05, 3.22500590e-05,\n",
            "       3.73173138e-05, 8.41237785e-05, 4.94917921e-05, 1.57934082e-04]), 'mean_score_time': array([0.00027442, 0.00026898, 0.00024834, 0.00022998, 0.00024605,\n",
            "       0.0002347 , 0.00023274, 0.00025434]), 'std_score_time': array([3.24431536e-05, 2.02649621e-05, 1.90045781e-05, 1.52391068e-05,\n",
            "       9.54984718e-06, 1.84275199e-05, 1.79536631e-05, 9.04659498e-06]), 'param_C': masked_array(data=[0.001, 0.01, 0.1, 1, 10, 100, 1000, 10000],\n",
            "             mask=[False, False, False, False, False, False, False, False],\n",
            "       fill_value='?',\n",
            "            dtype=object), 'params': [{'C': 0.001}, {'C': 0.01}, {'C': 0.1}, {'C': 1}, {'C': 10}, {'C': 100}, {'C': 1000}, {'C': 10000}], 'split0_test_score': array([0.91803279, 0.91803279, 0.91803279, 0.91803279, 0.91803279,\n",
            "       0.91803279, 0.91803279, 0.91803279]), 'split1_test_score': array([0.96666667, 0.96666667, 0.96666667, 0.96666667, 0.96666667,\n",
            "       0.96666667, 0.96666667, 0.96666667]), 'split2_test_score': array([0.91666667, 0.91666667, 0.91666667, 0.91666667, 0.91666667,\n",
            "       0.91666667, 0.91666667, 0.91666667]), 'split3_test_score': array([0.93333333, 0.93333333, 0.93333333, 0.93333333, 0.93333333,\n",
            "       0.93333333, 0.93333333, 0.93333333]), 'split4_test_score': array([0.86440678, 0.86440678, 0.86440678, 0.86440678, 0.86440678,\n",
            "       0.86440678, 0.86440678, 0.86440678]), 'mean_test_score': array([0.92, 0.92, 0.92, 0.92, 0.92, 0.92, 0.92, 0.92]), 'std_test_score': array([0.03289285, 0.03289285, 0.03289285, 0.03289285, 0.03289285,\n",
            "       0.03289285, 0.03289285, 0.03289285]), 'rank_test_score': array([1, 1, 1, 1, 1, 1, 1, 1], dtype=int32)}\n",
            "############# based on standard predict ################\n",
            "Accuracy on training data: 0.93\n",
            "Accuracy on test data:     0.94\n",
            "[[100   6]\n",
            " [  6  88]]\n",
            "########################################################\n"
          ],
          "name": "stdout"
        },
        {
          "output_type": "stream",
          "text": [
            "/usr/local/lib/python3.6/dist-packages/sklearn/linear_model/logistic.py:432: FutureWarning: Default solver will be changed to 'lbfgs' in 0.22. Specify a solver to silence this warning.\n",
            "  FutureWarning)\n",
            "/usr/local/lib/python3.6/dist-packages/sklearn/linear_model/logistic.py:432: FutureWarning: Default solver will be changed to 'lbfgs' in 0.22. Specify a solver to silence this warning.\n",
            "  FutureWarning)\n",
            "/usr/local/lib/python3.6/dist-packages/sklearn/linear_model/logistic.py:432: FutureWarning: Default solver will be changed to 'lbfgs' in 0.22. Specify a solver to silence this warning.\n",
            "  FutureWarning)\n",
            "/usr/local/lib/python3.6/dist-packages/sklearn/linear_model/logistic.py:432: FutureWarning: Default solver will be changed to 'lbfgs' in 0.22. Specify a solver to silence this warning.\n",
            "  FutureWarning)\n",
            "/usr/local/lib/python3.6/dist-packages/sklearn/linear_model/logistic.py:432: FutureWarning: Default solver will be changed to 'lbfgs' in 0.22. Specify a solver to silence this warning.\n",
            "  FutureWarning)\n",
            "/usr/local/lib/python3.6/dist-packages/sklearn/linear_model/logistic.py:432: FutureWarning: Default solver will be changed to 'lbfgs' in 0.22. Specify a solver to silence this warning.\n",
            "  FutureWarning)\n",
            "/usr/local/lib/python3.6/dist-packages/sklearn/linear_model/logistic.py:432: FutureWarning: Default solver will be changed to 'lbfgs' in 0.22. Specify a solver to silence this warning.\n",
            "  FutureWarning)\n",
            "/usr/local/lib/python3.6/dist-packages/sklearn/linear_model/logistic.py:432: FutureWarning: Default solver will be changed to 'lbfgs' in 0.22. Specify a solver to silence this warning.\n",
            "  FutureWarning)\n",
            "/usr/local/lib/python3.6/dist-packages/sklearn/linear_model/logistic.py:432: FutureWarning: Default solver will be changed to 'lbfgs' in 0.22. Specify a solver to silence this warning.\n",
            "  FutureWarning)\n",
            "/usr/local/lib/python3.6/dist-packages/sklearn/linear_model/logistic.py:432: FutureWarning: Default solver will be changed to 'lbfgs' in 0.22. Specify a solver to silence this warning.\n",
            "  FutureWarning)\n",
            "/usr/local/lib/python3.6/dist-packages/sklearn/linear_model/logistic.py:432: FutureWarning: Default solver will be changed to 'lbfgs' in 0.22. Specify a solver to silence this warning.\n",
            "  FutureWarning)\n",
            "/usr/local/lib/python3.6/dist-packages/sklearn/linear_model/logistic.py:432: FutureWarning: Default solver will be changed to 'lbfgs' in 0.22. Specify a solver to silence this warning.\n",
            "  FutureWarning)\n",
            "/usr/local/lib/python3.6/dist-packages/sklearn/linear_model/logistic.py:432: FutureWarning: Default solver will be changed to 'lbfgs' in 0.22. Specify a solver to silence this warning.\n",
            "  FutureWarning)\n",
            "/usr/local/lib/python3.6/dist-packages/sklearn/linear_model/logistic.py:432: FutureWarning: Default solver will be changed to 'lbfgs' in 0.22. Specify a solver to silence this warning.\n",
            "  FutureWarning)\n",
            "/usr/local/lib/python3.6/dist-packages/sklearn/linear_model/logistic.py:432: FutureWarning: Default solver will be changed to 'lbfgs' in 0.22. Specify a solver to silence this warning.\n",
            "  FutureWarning)\n",
            "/usr/local/lib/python3.6/dist-packages/sklearn/linear_model/logistic.py:432: FutureWarning: Default solver will be changed to 'lbfgs' in 0.22. Specify a solver to silence this warning.\n",
            "  FutureWarning)\n",
            "/usr/local/lib/python3.6/dist-packages/sklearn/linear_model/logistic.py:432: FutureWarning: Default solver will be changed to 'lbfgs' in 0.22. Specify a solver to silence this warning.\n",
            "  FutureWarning)\n",
            "/usr/local/lib/python3.6/dist-packages/sklearn/linear_model/logistic.py:432: FutureWarning: Default solver will be changed to 'lbfgs' in 0.22. Specify a solver to silence this warning.\n",
            "  FutureWarning)\n",
            "/usr/local/lib/python3.6/dist-packages/sklearn/linear_model/logistic.py:432: FutureWarning: Default solver will be changed to 'lbfgs' in 0.22. Specify a solver to silence this warning.\n",
            "  FutureWarning)\n",
            "/usr/local/lib/python3.6/dist-packages/sklearn/linear_model/logistic.py:432: FutureWarning: Default solver will be changed to 'lbfgs' in 0.22. Specify a solver to silence this warning.\n",
            "  FutureWarning)\n",
            "/usr/local/lib/python3.6/dist-packages/sklearn/linear_model/logistic.py:432: FutureWarning: Default solver will be changed to 'lbfgs' in 0.22. Specify a solver to silence this warning.\n",
            "  FutureWarning)\n",
            "/usr/local/lib/python3.6/dist-packages/sklearn/linear_model/logistic.py:432: FutureWarning: Default solver will be changed to 'lbfgs' in 0.22. Specify a solver to silence this warning.\n",
            "  FutureWarning)\n",
            "/usr/local/lib/python3.6/dist-packages/sklearn/linear_model/logistic.py:432: FutureWarning: Default solver will be changed to 'lbfgs' in 0.22. Specify a solver to silence this warning.\n",
            "  FutureWarning)\n",
            "/usr/local/lib/python3.6/dist-packages/sklearn/linear_model/logistic.py:432: FutureWarning: Default solver will be changed to 'lbfgs' in 0.22. Specify a solver to silence this warning.\n",
            "  FutureWarning)\n",
            "/usr/local/lib/python3.6/dist-packages/sklearn/linear_model/logistic.py:432: FutureWarning: Default solver will be changed to 'lbfgs' in 0.22. Specify a solver to silence this warning.\n",
            "  FutureWarning)\n",
            "/usr/local/lib/python3.6/dist-packages/sklearn/linear_model/logistic.py:432: FutureWarning: Default solver will be changed to 'lbfgs' in 0.22. Specify a solver to silence this warning.\n",
            "  FutureWarning)\n",
            "/usr/local/lib/python3.6/dist-packages/sklearn/linear_model/logistic.py:432: FutureWarning: Default solver will be changed to 'lbfgs' in 0.22. Specify a solver to silence this warning.\n",
            "  FutureWarning)\n",
            "/usr/local/lib/python3.6/dist-packages/sklearn/linear_model/logistic.py:432: FutureWarning: Default solver will be changed to 'lbfgs' in 0.22. Specify a solver to silence this warning.\n",
            "  FutureWarning)\n",
            "/usr/local/lib/python3.6/dist-packages/sklearn/linear_model/logistic.py:432: FutureWarning: Default solver will be changed to 'lbfgs' in 0.22. Specify a solver to silence this warning.\n",
            "  FutureWarning)\n",
            "/usr/local/lib/python3.6/dist-packages/sklearn/linear_model/logistic.py:432: FutureWarning: Default solver will be changed to 'lbfgs' in 0.22. Specify a solver to silence this warning.\n",
            "  FutureWarning)\n",
            "/usr/local/lib/python3.6/dist-packages/sklearn/linear_model/logistic.py:432: FutureWarning: Default solver will be changed to 'lbfgs' in 0.22. Specify a solver to silence this warning.\n",
            "  FutureWarning)\n",
            "/usr/local/lib/python3.6/dist-packages/sklearn/linear_model/logistic.py:432: FutureWarning: Default solver will be changed to 'lbfgs' in 0.22. Specify a solver to silence this warning.\n",
            "  FutureWarning)\n",
            "/usr/local/lib/python3.6/dist-packages/sklearn/linear_model/logistic.py:432: FutureWarning: Default solver will be changed to 'lbfgs' in 0.22. Specify a solver to silence this warning.\n",
            "  FutureWarning)\n",
            "/usr/local/lib/python3.6/dist-packages/sklearn/linear_model/logistic.py:432: FutureWarning: Default solver will be changed to 'lbfgs' in 0.22. Specify a solver to silence this warning.\n",
            "  FutureWarning)\n",
            "/usr/local/lib/python3.6/dist-packages/sklearn/linear_model/logistic.py:432: FutureWarning: Default solver will be changed to 'lbfgs' in 0.22. Specify a solver to silence this warning.\n",
            "  FutureWarning)\n",
            "/usr/local/lib/python3.6/dist-packages/sklearn/linear_model/logistic.py:432: FutureWarning: Default solver will be changed to 'lbfgs' in 0.22. Specify a solver to silence this warning.\n",
            "  FutureWarning)\n",
            "/usr/local/lib/python3.6/dist-packages/sklearn/linear_model/logistic.py:432: FutureWarning: Default solver will be changed to 'lbfgs' in 0.22. Specify a solver to silence this warning.\n",
            "  FutureWarning)\n",
            "/usr/local/lib/python3.6/dist-packages/sklearn/linear_model/logistic.py:432: FutureWarning: Default solver will be changed to 'lbfgs' in 0.22. Specify a solver to silence this warning.\n",
            "  FutureWarning)\n",
            "/usr/local/lib/python3.6/dist-packages/sklearn/linear_model/logistic.py:432: FutureWarning: Default solver will be changed to 'lbfgs' in 0.22. Specify a solver to silence this warning.\n",
            "  FutureWarning)\n",
            "/usr/local/lib/python3.6/dist-packages/sklearn/linear_model/logistic.py:432: FutureWarning: Default solver will be changed to 'lbfgs' in 0.22. Specify a solver to silence this warning.\n",
            "  FutureWarning)\n",
            "/usr/local/lib/python3.6/dist-packages/sklearn/linear_model/logistic.py:432: FutureWarning: Default solver will be changed to 'lbfgs' in 0.22. Specify a solver to silence this warning.\n",
            "  FutureWarning)\n",
            "/usr/local/lib/python3.6/dist-packages/sklearn/linear_model/logistic.py:432: FutureWarning: Default solver will be changed to 'lbfgs' in 0.22. Specify a solver to silence this warning.\n",
            "  FutureWarning)\n"
          ],
          "name": "stderr"
        },
        {
          "output_type": "execute_result",
          "data": {
            "text/plain": [
              "(<matplotlib.axes._subplots.AxesSubplot at 0x7f73f6209a58>,\n",
              " array([[53.76313333, 54.00452391, 54.24591449, ..., 77.17801973,\n",
              "         77.41941031, 77.66080089],\n",
              "        [53.76313333, 54.00452391, 54.24591449, ..., 77.17801973,\n",
              "         77.41941031, 77.66080089],\n",
              "        [53.76313333, 54.00452391, 54.24591449, ..., 77.17801973,\n",
              "         77.41941031, 77.66080089],\n",
              "        ...,\n",
              "        [53.76313333, 54.00452391, 54.24591449, ..., 77.17801973,\n",
              "         77.41941031, 77.66080089],\n",
              "        [53.76313333, 54.00452391, 54.24591449, ..., 77.17801973,\n",
              "         77.41941031, 77.66080089],\n",
              "        [53.76313333, 54.00452391, 54.24591449, ..., 77.17801973,\n",
              "         77.41941031, 77.66080089]]),\n",
              " array([[ 64.20012671,  64.20012671,  64.20012671, ...,  64.20012671,\n",
              "          64.20012671,  64.20012671],\n",
              "        [ 66.08140102,  66.08140102,  66.08140102, ...,  66.08140102,\n",
              "          66.08140102,  66.08140102],\n",
              "        [ 67.96267533,  67.96267533,  67.96267533, ...,  67.96267533,\n",
              "          67.96267533,  67.96267533],\n",
              "        ...,\n",
              "        [246.68373458, 246.68373458, 246.68373458, ..., 246.68373458,\n",
              "         246.68373458, 246.68373458],\n",
              "        [248.56500889, 248.56500889, 248.56500889, ..., 248.56500889,\n",
              "         248.56500889, 248.56500889],\n",
              "        [250.4462832 , 250.4462832 , 250.4462832 , ..., 250.4462832 ,\n",
              "         250.4462832 , 250.4462832 ]]))"
            ]
          },
          "metadata": {
            "tags": []
          },
          "execution_count": 17
        },
        {
          "output_type": "display_data",
          "data": {
            "image/png": "[encoded data removed]",
            "text/plain": [
              "<Figure size 432x288 with 1 Axes>"
            ]
          },
          "metadata": {
            "tags": []
          }
        }
      ]
    },
    {
      "cell_type": "code",
      "metadata": {
        "id": "w2PklzC1nxY2",
        "colab_type": "code",
        "outputId": "4f37e1aa-0de2-4d7f-daa6-e16c77c28d28",
        "colab": {
          "base_uri": "https://localhost:8080/",
          "height": 185
        }
      },
      "source": [
        "clflog.predict(Xtest)"
      ],
      "execution_count": 18,
      "outputs": [
        {
          "output_type": "execute_result",
          "data": {
            "text/plain": [
              "array([0, 0, 1, 0, 1, 1, 1, 1, 1, 1, 1, 0, 0, 1, 0, 0, 0, 1, 0, 1, 0, 1,\n",
              "       1, 0, 1, 0, 0, 1, 1, 1, 0, 0, 0, 0, 1, 0, 0, 1, 0, 0, 0, 0, 1, 1,\n",
              "       1, 1, 0, 0, 0, 0, 1, 0, 0, 1, 1, 1, 0, 1, 0, 1, 0, 1, 1, 1, 0, 0,\n",
              "       1, 0, 0, 0, 0, 1, 0, 0, 0, 0, 1, 0, 1, 1, 0, 0, 1, 0, 1, 1, 1, 1,\n",
              "       1, 0, 1, 1, 1, 0, 1, 0, 1, 0, 0, 0, 1, 0, 0, 1, 1, 1, 0, 0, 0, 0,\n",
              "       1, 0, 0, 0, 0, 0, 1, 0, 0, 1, 0, 1, 0, 1, 1, 1, 1, 1, 0, 0, 0, 0,\n",
              "       0, 0, 0, 1, 1, 1, 1, 0, 0, 0, 0, 1, 1, 0, 1, 0, 0, 1, 1, 0, 1, 0,\n",
              "       0, 0, 0, 0, 0, 0, 1, 0, 1, 0, 0, 0, 1, 0, 1, 1, 0, 1, 0, 0, 1, 1,\n",
              "       0, 0, 1, 0, 1, 1, 0, 0, 1, 1, 0, 1, 1, 1, 1, 1, 1, 0, 0, 1, 1, 1,\n",
              "       0, 1])"
            ]
          },
          "metadata": {
            "tags": []
          },
          "execution_count": 18
        }
      ]
    },
    {
      "cell_type": "code",
      "metadata": {
        "id": "PN4TjN0dPb2H",
        "colab_type": "code",
        "outputId": "ddf6e9b1-8f89-4146-f5ba-c0fa9383e5c3",
        "colab": {
          "base_uri": "https://localhost:8080/",
          "height": 1000
        }
      },
      "source": [
        "clflog.predict_proba(Xtest)"
      ],
      "execution_count": 19,
      "outputs": [
        {
          "output_type": "execute_result",
          "data": {
            "text/plain": [
              "array([[0.80794075, 0.19205925],\n",
              "       [0.64008835, 0.35991165],\n",
              "       [0.21631548, 0.78368452],\n",
              "       [0.75951888, 0.24048112],\n",
              "       [0.43343668, 0.56656332],\n",
              "       [0.05469358, 0.94530642],\n",
              "       [0.03389344, 0.96610656],\n",
              "       [0.11781233, 0.88218767],\n",
              "       [0.22176705, 0.77823295],\n",
              "       [0.07293342, 0.92706658],\n",
              "       [0.18508951, 0.81491049],\n",
              "       [0.69619397, 0.30380603],\n",
              "       [0.85435122, 0.14564878],\n",
              "       [0.44291223, 0.55708777],\n",
              "       [0.94645798, 0.05354202],\n",
              "       [0.92334025, 0.07665975],\n",
              "       [0.87979174, 0.12020826],\n",
              "       [0.13867508, 0.86132492],\n",
              "       [0.68759173, 0.31240827],\n",
              "       [0.22043776, 0.77956224],\n",
              "       [0.95754577, 0.04245423],\n",
              "       [0.18571166, 0.81428834],\n",
              "       [0.08380373, 0.91619627],\n",
              "       [0.84545038, 0.15454962],\n",
              "       [0.05373522, 0.94626478],\n",
              "       [0.63667289, 0.36332711],\n",
              "       [0.92629149, 0.07370851],\n",
              "       [0.12454498, 0.87545502],\n",
              "       [0.28143043, 0.71856957],\n",
              "       [0.37473023, 0.62526977],\n",
              "       [0.9473364 , 0.0526636 ],\n",
              "       [0.95372281, 0.04627719],\n",
              "       [0.87923605, 0.12076395],\n",
              "       [0.55934707, 0.44065293],\n",
              "       [0.45433767, 0.54566233],\n",
              "       [0.84591711, 0.15408289],\n",
              "       [0.69467387, 0.30532613],\n",
              "       [0.27507128, 0.72492872],\n",
              "       [0.72050987, 0.27949013],\n",
              "       [0.72588435, 0.27411565],\n",
              "       [0.79879729, 0.20120271],\n",
              "       [0.97851654, 0.02148346],\n",
              "       [0.09344943, 0.90655057],\n",
              "       [0.07397106, 0.92602894],\n",
              "       [0.34092153, 0.65907847],\n",
              "       [0.04506761, 0.95493239],\n",
              "       [0.69138326, 0.30861674],\n",
              "       [0.92204307, 0.07795693],\n",
              "       [0.90724978, 0.09275022],\n",
              "       [0.80616618, 0.19383382],\n",
              "       [0.3093371 , 0.6906629 ],\n",
              "       [0.8335248 , 0.1664752 ],\n",
              "       [0.89390666, 0.10609334],\n",
              "       [0.24953158, 0.75046842],\n",
              "       [0.06727827, 0.93272173],\n",
              "       [0.27841132, 0.72158868],\n",
              "       [0.90213354, 0.09786646],\n",
              "       [0.17447508, 0.82552492],\n",
              "       [0.92461527, 0.07538473],\n",
              "       [0.47728011, 0.52271989],\n",
              "       [0.97427721, 0.02572279],\n",
              "       [0.10587217, 0.89412783],\n",
              "       [0.04922989, 0.95077011],\n",
              "       [0.18959182, 0.81040818],\n",
              "       [0.85597231, 0.14402769],\n",
              "       [0.88749384, 0.11250616],\n",
              "       [0.09158924, 0.90841076],\n",
              "       [0.97305691, 0.02694309],\n",
              "       [0.94162429, 0.05837571],\n",
              "       [0.89020018, 0.10979982],\n",
              "       [0.87823777, 0.12176223],\n",
              "       [0.15657992, 0.84342008],\n",
              "       [0.87800315, 0.12199685],\n",
              "       [0.68896029, 0.31103971],\n",
              "       [0.78029463, 0.21970537],\n",
              "       [0.68511023, 0.31488977],\n",
              "       [0.11047638, 0.88952362],\n",
              "       [0.97301563, 0.02698437],\n",
              "       [0.30480799, 0.69519201],\n",
              "       [0.21883346, 0.78116654],\n",
              "       [0.59318167, 0.40681833],\n",
              "       [0.71862851, 0.28137149],\n",
              "       [0.20258964, 0.79741036],\n",
              "       [0.50097066, 0.49902934],\n",
              "       [0.18551054, 0.81448946],\n",
              "       [0.01460761, 0.98539239],\n",
              "       [0.03836837, 0.96163163],\n",
              "       [0.16904857, 0.83095143],\n",
              "       [0.23869199, 0.76130801],\n",
              "       [0.87456229, 0.12543771],\n",
              "       [0.11363391, 0.88636609],\n",
              "       [0.05172828, 0.94827172],\n",
              "       [0.40212167, 0.59787833],\n",
              "       [0.82095805, 0.17904195],\n",
              "       [0.07876692, 0.92123308],\n",
              "       [0.55379006, 0.44620994],\n",
              "       [0.15607649, 0.84392351],\n",
              "       [0.8263953 , 0.1736047 ],\n",
              "       [0.72886216, 0.27113784],\n",
              "       [0.72369472, 0.27630528],\n",
              "       [0.20538077, 0.79461923],\n",
              "       [0.94655832, 0.05344168],\n",
              "       [0.95788192, 0.04211808],\n",
              "       [0.39809442, 0.60190558],\n",
              "       [0.19721381, 0.80278619],\n",
              "       [0.16132619, 0.83867381],\n",
              "       [0.94222563, 0.05777437],\n",
              "       [0.66726004, 0.33273996],\n",
              "       [0.91810881, 0.08189119],\n",
              "       [0.9495006 , 0.0504994 ],\n",
              "       [0.29179907, 0.70820093],\n",
              "       [0.51663133, 0.48336867],\n",
              "       [0.89186107, 0.10813893],\n",
              "       [0.94495519, 0.05504481],\n",
              "       [0.93482759, 0.06517241],\n",
              "       [0.69754127, 0.30245873],\n",
              "       [0.2598929 , 0.7401071 ],\n",
              "       [0.92939586, 0.07060414],\n",
              "       [0.92258198, 0.07741802],\n",
              "       [0.20240568, 0.79759432],\n",
              "       [0.95406639, 0.04593361],\n",
              "       [0.1048455 , 0.8951545 ],\n",
              "       [0.53571457, 0.46428543],\n",
              "       [0.04137429, 0.95862571],\n",
              "       [0.13853889, 0.86146111],\n",
              "       [0.25479335, 0.74520665],\n",
              "       [0.32230515, 0.67769485],\n",
              "       [0.25786028, 0.74213972],\n",
              "       [0.76401969, 0.23598031],\n",
              "       [0.92032508, 0.07967492],\n",
              "       [0.85518302, 0.14481698],\n",
              "       [0.85628591, 0.14371409],\n",
              "       [0.92988491, 0.07011509],\n",
              "       [0.7163508 , 0.2836492 ],\n",
              "       [0.97863531, 0.02136469],\n",
              "       [0.06452928, 0.93547072],\n",
              "       [0.2431565 , 0.7568435 ],\n",
              "       [0.31081634, 0.68918366],\n",
              "       [0.10344967, 0.89655033],\n",
              "       [0.95736935, 0.04263065],\n",
              "       [0.74663909, 0.25336091],\n",
              "       [0.98045746, 0.01954254],\n",
              "       [0.97407176, 0.02592824],\n",
              "       [0.41299394, 0.58700606],\n",
              "       [0.33273338, 0.66726662],\n",
              "       [0.84842308, 0.15157692],\n",
              "       [0.07565889, 0.92434111],\n",
              "       [0.70882107, 0.29117893],\n",
              "       [0.70826475, 0.29173525],\n",
              "       [0.2464761 , 0.7535239 ],\n",
              "       [0.42075275, 0.57924725],\n",
              "       [0.85156477, 0.14843523],\n",
              "       [0.09545507, 0.90454493],\n",
              "       [0.96512276, 0.03487724],\n",
              "       [0.71215476, 0.28784524],\n",
              "       [0.91695051, 0.08304949],\n",
              "       [0.92662797, 0.07337203],\n",
              "       [0.69170216, 0.30829784],\n",
              "       [0.93020138, 0.06979862],\n",
              "       [0.70507695, 0.29492305],\n",
              "       [0.02334713, 0.97665287],\n",
              "       [0.95091217, 0.04908783],\n",
              "       [0.42963428, 0.57036572],\n",
              "       [0.86118539, 0.13881461],\n",
              "       [0.84154437, 0.15845563],\n",
              "       [0.81341513, 0.18658487],\n",
              "       [0.350752  , 0.649248  ],\n",
              "       [0.74511703, 0.25488297],\n",
              "       [0.25706387, 0.74293613],\n",
              "       [0.16304112, 0.83695888],\n",
              "       [0.65370805, 0.34629195],\n",
              "       [0.36827307, 0.63172693],\n",
              "       [0.76477929, 0.23522071],\n",
              "       [0.97552092, 0.02447908],\n",
              "       [0.02190599, 0.97809401],\n",
              "       [0.02425491, 0.97574509],\n",
              "       [0.91906728, 0.08093272],\n",
              "       [0.83602927, 0.16397073],\n",
              "       [0.3812541 , 0.6187459 ],\n",
              "       [0.8434136 , 0.1565864 ],\n",
              "       [0.26542361, 0.73457639],\n",
              "       [0.11016767, 0.88983233],\n",
              "       [0.60747772, 0.39252228],\n",
              "       [0.97760784, 0.02239216],\n",
              "       [0.04887847, 0.95112153],\n",
              "       [0.26814948, 0.73185052],\n",
              "       [0.71654469, 0.28345531],\n",
              "       [0.04606499, 0.95393501],\n",
              "       [0.16796161, 0.83203839],\n",
              "       [0.26310747, 0.73689253],\n",
              "       [0.05649719, 0.94350281],\n",
              "       [0.18102084, 0.81897916],\n",
              "       [0.45950841, 0.54049159],\n",
              "       [0.8711887 , 0.1288113 ],\n",
              "       [0.51294228, 0.48705772],\n",
              "       [0.07941415, 0.92058585],\n",
              "       [0.48616458, 0.51383542],\n",
              "       [0.4923665 , 0.5076335 ],\n",
              "       [0.61850657, 0.38149343],\n",
              "       [0.20761746, 0.79238254]])"
            ]
          },
          "metadata": {
            "tags": []
          },
          "execution_count": 19
        }
      ]
    },
    {
      "cell_type": "code",
      "metadata": {
        "id": "qiaM0i3tPhTs",
        "colab_type": "code",
        "outputId": "890ef066-3be8-44be-c9a5-0ac7e5be585d",
        "colab": {
          "base_uri": "https://localhost:8080/",
          "height": 689
        }
      },
      "source": [
        "clflog.predict_proba(Xtest)[:, 1]"
      ],
      "execution_count": 20,
      "outputs": [
        {
          "output_type": "execute_result",
          "data": {
            "text/plain": [
              "array([0.19205925, 0.35991165, 0.78368452, 0.24048112, 0.56656332,\n",
              "       0.94530642, 0.96610656, 0.88218767, 0.77823295, 0.92706658,\n",
              "       0.81491049, 0.30380603, 0.14564878, 0.55708777, 0.05354202,\n",
              "       0.07665975, 0.12020826, 0.86132492, 0.31240827, 0.77956224,\n",
              "       0.04245423, 0.81428834, 0.91619627, 0.15454962, 0.94626478,\n",
              "       0.36332711, 0.07370851, 0.87545502, 0.71856957, 0.62526977,\n",
              "       0.0526636 , 0.04627719, 0.12076395, 0.44065293, 0.54566233,\n",
              "       0.15408289, 0.30532613, 0.72492872, 0.27949013, 0.27411565,\n",
              "       0.20120271, 0.02148346, 0.90655057, 0.92602894, 0.65907847,\n",
              "       0.95493239, 0.30861674, 0.07795693, 0.09275022, 0.19383382,\n",
              "       0.6906629 , 0.1664752 , 0.10609334, 0.75046842, 0.93272173,\n",
              "       0.72158868, 0.09786646, 0.82552492, 0.07538473, 0.52271989,\n",
              "       0.02572279, 0.89412783, 0.95077011, 0.81040818, 0.14402769,\n",
              "       0.11250616, 0.90841076, 0.02694309, 0.05837571, 0.10979982,\n",
              "       0.12176223, 0.84342008, 0.12199685, 0.31103971, 0.21970537,\n",
              "       0.31488977, 0.88952362, 0.02698437, 0.69519201, 0.78116654,\n",
              "       0.40681833, 0.28137149, 0.79741036, 0.49902934, 0.81448946,\n",
              "       0.98539239, 0.96163163, 0.83095143, 0.76130801, 0.12543771,\n",
              "       0.88636609, 0.94827172, 0.59787833, 0.17904195, 0.92123308,\n",
              "       0.44620994, 0.84392351, 0.1736047 , 0.27113784, 0.27630528,\n",
              "       0.79461923, 0.05344168, 0.04211808, 0.60190558, 0.80278619,\n",
              "       0.83867381, 0.05777437, 0.33273996, 0.08189119, 0.0504994 ,\n",
              "       0.70820093, 0.48336867, 0.10813893, 0.05504481, 0.06517241,\n",
              "       0.30245873, 0.7401071 , 0.07060414, 0.07741802, 0.79759432,\n",
              "       0.04593361, 0.8951545 , 0.46428543, 0.95862571, 0.86146111,\n",
              "       0.74520665, 0.67769485, 0.74213972, 0.23598031, 0.07967492,\n",
              "       0.14481698, 0.14371409, 0.07011509, 0.2836492 , 0.02136469,\n",
              "       0.93547072, 0.7568435 , 0.68918366, 0.89655033, 0.04263065,\n",
              "       0.25336091, 0.01954254, 0.02592824, 0.58700606, 0.66726662,\n",
              "       0.15157692, 0.92434111, 0.29117893, 0.29173525, 0.7535239 ,\n",
              "       0.57924725, 0.14843523, 0.90454493, 0.03487724, 0.28784524,\n",
              "       0.08304949, 0.07337203, 0.30829784, 0.06979862, 0.29492305,\n",
              "       0.97665287, 0.04908783, 0.57036572, 0.13881461, 0.15845563,\n",
              "       0.18658487, 0.649248  , 0.25488297, 0.74293613, 0.83695888,\n",
              "       0.34629195, 0.63172693, 0.23522071, 0.02447908, 0.97809401,\n",
              "       0.97574509, 0.08093272, 0.16397073, 0.6187459 , 0.1565864 ,\n",
              "       0.73457639, 0.88983233, 0.39252228, 0.02239216, 0.95112153,\n",
              "       0.73185052, 0.28345531, 0.95393501, 0.83203839, 0.73689253,\n",
              "       0.94350281, 0.81897916, 0.54049159, 0.1288113 , 0.48705772,\n",
              "       0.92058585, 0.51383542, 0.5076335 , 0.38149343, 0.79238254])"
            ]
          },
          "metadata": {
            "tags": []
          },
          "execution_count": 20
        }
      ]
    },
    {
      "cell_type": "code",
      "metadata": {
        "id": "RNv0y-Q-PnWc",
        "colab_type": "code",
        "outputId": "a4c0ad22-08c2-4acd-88d6-12524092049f",
        "colab": {
          "base_uri": "https://localhost:8080/",
          "height": 380
        }
      },
      "source": [
        "plt.hist(clflog.predict_proba(Xtest)[:, 1]*100)"
      ],
      "execution_count": 21,
      "outputs": [
        {
          "output_type": "execute_result",
          "data": {
            "text/plain": [
              "(array([43., 25., 22.,  9.,  7., 11., 11., 19., 22., 31.]),\n",
              " array([ 1.95425406, 11.6127526 , 21.27125115, 30.92974969, 40.58824823,\n",
              "        50.24674678, 59.90524532, 69.56374386, 79.22224241, 88.88074095,\n",
              "        98.53923949]),\n",
              " <a list of 10 Patch objects>)"
            ]
          },
          "metadata": {
            "tags": []
          },
          "execution_count": 21
        },
        {
          "output_type": "display_data",
          "data": {
            "image/png": "[encoded data removed]",
            "text/plain": [
              "<Figure size 432x288 with 1 Axes>"
            ]
          },
          "metadata": {
            "tags": []
          }
        }
      ]
    },
    {
      "cell_type": "code",
      "metadata": {
        "id": "MgyxY-_PPv2f",
        "colab_type": "code",
        "outputId": "45f10851-f6d9-457c-c3c2-1f6d1a535fb9",
        "colab": {
          "base_uri": "https://localhost:8080/",
          "height": 670
        }
      },
      "source": [
        "plt.figure()\n",
        "ax = plt.gca()\n",
        "\n",
        "points_plot(ax, Xtrain, Xtest, ytrain, ytest, clflog, mesh = False, alpha = 0.001)\n",
        "points_plot_prob(ax, Xtrain, Xtest, ytrain, ytest, clflog)"
      ],
      "execution_count": 22,
      "outputs": [
        {
          "output_type": "stream",
          "text": [
            "/usr/local/lib/python3.6/dist-packages/matplotlib/contour.py:1000: UserWarning: The following kwargs were not used by contour: 'axes'\n",
            "  s)\n"
          ],
          "name": "stderr"
        },
        {
          "output_type": "error",
          "ename": "TypeError",
          "evalue": "ignored",
          "traceback": [
            "\u001b[0;31m---------------------------------------------------------------------------\u001b[0m",
            "\u001b[0;31mTypeError\u001b[0m                                 Traceback (most recent call last)",
            "\u001b[0;32m<ipython-input-22-4ba569c9d3bc>\u001b[0m in \u001b[0;36m<module>\u001b[0;34m()\u001b[0m\n\u001b[1;32m      3\u001b[0m \u001b[0;34m\u001b[0m\u001b[0m\n\u001b[1;32m      4\u001b[0m \u001b[0mpoints_plot\u001b[0m\u001b[0;34m(\u001b[0m\u001b[0max\u001b[0m\u001b[0;34m,\u001b[0m \u001b[0mXtrain\u001b[0m\u001b[0;34m,\u001b[0m \u001b[0mXtest\u001b[0m\u001b[0;34m,\u001b[0m \u001b[0mytrain\u001b[0m\u001b[0;34m,\u001b[0m \u001b[0mytest\u001b[0m\u001b[0;34m,\u001b[0m \u001b[0mclflog\u001b[0m\u001b[0;34m,\u001b[0m \u001b[0mmesh\u001b[0m \u001b[0;34m=\u001b[0m \u001b[0;32mFalse\u001b[0m\u001b[0;34m,\u001b[0m \u001b[0malpha\u001b[0m \u001b[0;34m=\u001b[0m \u001b[0;36m0.001\u001b[0m\u001b[0;34m)\u001b[0m\u001b[0;34m\u001b[0m\u001b[0;34m\u001b[0m\u001b[0m\n\u001b[0;32m----> 5\u001b[0;31m \u001b[0mpoints_plot_prob\u001b[0m\u001b[0;34m(\u001b[0m\u001b[0max\u001b[0m\u001b[0;34m,\u001b[0m \u001b[0mXtrain\u001b[0m\u001b[0;34m,\u001b[0m \u001b[0mXtest\u001b[0m\u001b[0;34m,\u001b[0m \u001b[0mytrain\u001b[0m\u001b[0;34m,\u001b[0m \u001b[0mytest\u001b[0m\u001b[0;34m,\u001b[0m \u001b[0mclflog\u001b[0m\u001b[0;34m)\u001b[0m\u001b[0;34m\u001b[0m\u001b[0;34m\u001b[0m\u001b[0m\n\u001b[0m",
            "\u001b[0;32m<ipython-input-11-7d4eee0175d8>\u001b[0m in \u001b[0;36mpoints_plot_prob\u001b[0;34m(ax, Xtr, Xte, ytr, yte, clf, colorscale, cdiscrete, ccolor, psize, alpha, prob)\u001b[0m\n\u001b[1;32m      8\u001b[0m     \u001b[0mplt\u001b[0m\u001b[0;34m.\u001b[0m\u001b[0mcontourf\u001b[0m\u001b[0;34m(\u001b[0m\u001b[0mxx\u001b[0m\u001b[0;34m,\u001b[0m \u001b[0myy\u001b[0m\u001b[0;34m,\u001b[0m \u001b[0mZ\u001b[0m\u001b[0;34m,\u001b[0m \u001b[0mcmap\u001b[0m\u001b[0;34m=\u001b[0m\u001b[0mccolor\u001b[0m\u001b[0;34m,\u001b[0m \u001b[0malpha\u001b[0m\u001b[0;34m=\u001b[0m\u001b[0;36m.2\u001b[0m\u001b[0;34m,\u001b[0m \u001b[0maxes\u001b[0m\u001b[0;34m=\u001b[0m\u001b[0max\u001b[0m\u001b[0;34m)\u001b[0m\u001b[0;34m\u001b[0m\u001b[0;34m\u001b[0m\u001b[0m\n\u001b[1;32m      9\u001b[0m     \u001b[0mcs2\u001b[0m \u001b[0;34m=\u001b[0m \u001b[0mplt\u001b[0m\u001b[0;34m.\u001b[0m\u001b[0mcontour\u001b[0m\u001b[0;34m(\u001b[0m\u001b[0mxx\u001b[0m\u001b[0;34m,\u001b[0m \u001b[0myy\u001b[0m\u001b[0;34m,\u001b[0m \u001b[0mZ\u001b[0m\u001b[0;34m,\u001b[0m \u001b[0mcmap\u001b[0m\u001b[0;34m=\u001b[0m\u001b[0mccolor\u001b[0m\u001b[0;34m,\u001b[0m \u001b[0malpha\u001b[0m\u001b[0;34m=\u001b[0m\u001b[0;36m.6\u001b[0m\u001b[0;34m,\u001b[0m \u001b[0maxes\u001b[0m\u001b[0;34m=\u001b[0m\u001b[0max\u001b[0m\u001b[0;34m)\u001b[0m\u001b[0;34m\u001b[0m\u001b[0;34m\u001b[0m\u001b[0m\n\u001b[0;32m---> 10\u001b[0;31m     \u001b[0mplt\u001b[0m\u001b[0;34m.\u001b[0m\u001b[0mclabel\u001b[0m\u001b[0;34m(\u001b[0m\u001b[0mcs2\u001b[0m\u001b[0;34m,\u001b[0m \u001b[0mfmt\u001b[0m \u001b[0;34m=\u001b[0m \u001b[0;34m'%2.1f'\u001b[0m\u001b[0;34m,\u001b[0m \u001b[0mcolors\u001b[0m \u001b[0;34m=\u001b[0m \u001b[0;34m'k'\u001b[0m\u001b[0;34m,\u001b[0m \u001b[0mfontsize\u001b[0m\u001b[0;34m=\u001b[0m\u001b[0;36m14\u001b[0m\u001b[0;34m,\u001b[0m \u001b[0maxes\u001b[0m\u001b[0;34m=\u001b[0m\u001b[0max\u001b[0m\u001b[0;34m)\u001b[0m\u001b[0;34m\u001b[0m\u001b[0;34m\u001b[0m\u001b[0m\n\u001b[0m\u001b[1;32m     11\u001b[0m     \u001b[0;32mreturn\u001b[0m \u001b[0max\u001b[0m\u001b[0;34m\u001b[0m\u001b[0;34m\u001b[0m\u001b[0m\n",
            "\u001b[0;32m/usr/local/lib/python3.6/dist-packages/matplotlib/pyplot.py\u001b[0m in \u001b[0;36mclabel\u001b[0;34m(CS, *args, **kwargs)\u001b[0m\n\u001b[1;32m   2514\u001b[0m \u001b[0;34m@\u001b[0m\u001b[0mdocstring\u001b[0m\u001b[0;34m.\u001b[0m\u001b[0mcopy_dedent\u001b[0m\u001b[0;34m(\u001b[0m\u001b[0mAxes\u001b[0m\u001b[0;34m.\u001b[0m\u001b[0mclabel\u001b[0m\u001b[0;34m)\u001b[0m\u001b[0;34m\u001b[0m\u001b[0;34m\u001b[0m\u001b[0m\n\u001b[1;32m   2515\u001b[0m \u001b[0;32mdef\u001b[0m \u001b[0mclabel\u001b[0m\u001b[0;34m(\u001b[0m\u001b[0mCS\u001b[0m\u001b[0;34m,\u001b[0m \u001b[0;34m*\u001b[0m\u001b[0margs\u001b[0m\u001b[0;34m,\u001b[0m \u001b[0;34m**\u001b[0m\u001b[0mkwargs\u001b[0m\u001b[0;34m)\u001b[0m\u001b[0;34m:\u001b[0m\u001b[0;34m\u001b[0m\u001b[0;34m\u001b[0m\u001b[0m\n\u001b[0;32m-> 2516\u001b[0;31m     \u001b[0;32mreturn\u001b[0m \u001b[0mgca\u001b[0m\u001b[0;34m(\u001b[0m\u001b[0;34m)\u001b[0m\u001b[0;34m.\u001b[0m\u001b[0mclabel\u001b[0m\u001b[0;34m(\u001b[0m\u001b[0mCS\u001b[0m\u001b[0;34m,\u001b[0m \u001b[0;34m*\u001b[0m\u001b[0margs\u001b[0m\u001b[0;34m,\u001b[0m \u001b[0;34m**\u001b[0m\u001b[0mkwargs\u001b[0m\u001b[0;34m)\u001b[0m\u001b[0;34m\u001b[0m\u001b[0;34m\u001b[0m\u001b[0m\n\u001b[0m\u001b[1;32m   2517\u001b[0m \u001b[0;34m\u001b[0m\u001b[0m\n\u001b[1;32m   2518\u001b[0m \u001b[0;34m\u001b[0m\u001b[0m\n",
            "\u001b[0;32m/usr/local/lib/python3.6/dist-packages/matplotlib/axes/_axes.py\u001b[0m in \u001b[0;36mclabel\u001b[0;34m(self, CS, *args, **kwargs)\u001b[0m\n\u001b[1;32m   6243\u001b[0m \u001b[0;34m\u001b[0m\u001b[0m\n\u001b[1;32m   6244\u001b[0m     \u001b[0;32mdef\u001b[0m \u001b[0mclabel\u001b[0m\u001b[0;34m(\u001b[0m\u001b[0mself\u001b[0m\u001b[0;34m,\u001b[0m \u001b[0mCS\u001b[0m\u001b[0;34m,\u001b[0m \u001b[0;34m*\u001b[0m\u001b[0margs\u001b[0m\u001b[0;34m,\u001b[0m \u001b[0;34m**\u001b[0m\u001b[0mkwargs\u001b[0m\u001b[0;34m)\u001b[0m\u001b[0;34m:\u001b[0m\u001b[0;34m\u001b[0m\u001b[0;34m\u001b[0m\u001b[0m\n\u001b[0;32m-> 6245\u001b[0;31m         \u001b[0;32mreturn\u001b[0m \u001b[0mCS\u001b[0m\u001b[0;34m.\u001b[0m\u001b[0mclabel\u001b[0m\u001b[0;34m(\u001b[0m\u001b[0;34m*\u001b[0m\u001b[0margs\u001b[0m\u001b[0;34m,\u001b[0m \u001b[0;34m**\u001b[0m\u001b[0mkwargs\u001b[0m\u001b[0;34m)\u001b[0m\u001b[0;34m\u001b[0m\u001b[0;34m\u001b[0m\u001b[0m\n\u001b[0m\u001b[1;32m   6246\u001b[0m     \u001b[0mclabel\u001b[0m\u001b[0;34m.\u001b[0m\u001b[0m__doc__\u001b[0m \u001b[0;34m=\u001b[0m \u001b[0mmcontour\u001b[0m\u001b[0;34m.\u001b[0m\u001b[0mContourSet\u001b[0m\u001b[0;34m.\u001b[0m\u001b[0mclabel\u001b[0m\u001b[0;34m.\u001b[0m\u001b[0m__doc__\u001b[0m\u001b[0;34m\u001b[0m\u001b[0;34m\u001b[0m\u001b[0m\n\u001b[1;32m   6247\u001b[0m \u001b[0;34m\u001b[0m\u001b[0m\n",
            "\u001b[0;31mTypeError\u001b[0m: clabel() got an unexpected keyword argument 'axes'"
          ]
        },
        {
          "output_type": "display_data",
          "data": {
            "image/png": "[encoded data removed]",
            "text/plain": [
              "<Figure size 432x288 with 1 Axes>"
            ]
          },
          "metadata": {
            "tags": []
          }
        }
      ]
    },
    {
      "cell_type": "code",
      "metadata": {
        "id": "_5Ao0lm7QLdH",
        "colab_type": "code",
        "colab": {}
      },
      "source": [
        "clflog.score(Xtest, ytest)"
      ],
      "execution_count": 0,
      "outputs": []
    },
    {
      "cell_type": "markdown",
      "metadata": {
        "id": "_QIZ1cZCQOy6",
        "colab_type": "text"
      },
      "source": [
        "# SVM"
      ]
    },
    {
      "cell_type": "code",
      "metadata": {
        "id": "FOPRxxDZQRXh",
        "colab_type": "code",
        "colab": {}
      },
      "source": [
        "from sklearn.svm import SVC\n",
        "clfsvm = SVC(kernel=\"linear\")\n",
        "parameters = {\"C\": [0.001, 0.01, 0.1, 1, 10, 100, 1000]}\n",
        "clfsvm, Xtrain, ytrain, Xtest, ytest=do_classify(clfsvm, parameters, df, ['Height','Weight'],'Gender', \"Male\", mask=mask)\n",
        "Xtr=np.concatenate((Xtrain, Xtest))\n",
        "plt.figure()\n",
        "ax=plt.gca()\n",
        "points_plot(ax, Xtrain, Xtest, ytrain, ytest, clfsvm)"
      ],
      "execution_count": 0,
      "outputs": []
    },
    {
      "cell_type": "code",
      "metadata": {
        "id": "TeXUlQ89Qdw0",
        "colab_type": "code",
        "colab": {}
      },
      "source": [
        "clfsvm.decision_function(Xtest)"
      ],
      "execution_count": 0,
      "outputs": []
    },
    {
      "cell_type": "code",
      "metadata": {
        "id": "U8ITfC0lQgsY",
        "colab_type": "code",
        "colab": {}
      },
      "source": [
        "plt.hist(clfsvm.decision_function(Xtest))"
      ],
      "execution_count": 0,
      "outputs": []
    },
    {
      "cell_type": "code",
      "metadata": {
        "id": "zRFUJ2sjQjmW",
        "colab_type": "code",
        "colab": {}
      },
      "source": [
        "plt.figure()\n",
        "ax=plt.gca()\n",
        "points_plot(ax, Xtrain, Xtest, ytrain, ytest, clfsvm, mesh=False)\n",
        "points_plot_prob(ax, Xtrain, Xtest, ytrain, ytest, clfsvm, prob=False)"
      ],
      "execution_count": 0,
      "outputs": []
    },
    {
      "cell_type": "code",
      "metadata": {
        "id": "Yw2J0wEHQnp3",
        "colab_type": "code",
        "colab": {}
      },
      "source": [
        "def plot_svc_decision_function(clf, ax=None):\n",
        "    \"\"\"Plot the decision function for a 2D SVC\"\"\"\n",
        "    if ax is None:\n",
        "        ax = plt.gca()\n",
        "    x = np.linspace(plt.xlim()[0], plt.xlim()[1], 30)\n",
        "    y = np.linspace(plt.ylim()[0], plt.ylim()[1], 30)\n",
        "    Y, X = np.meshgrid(y, x)\n",
        "    P = np.zeros_like(X)\n",
        "    for i, xi in enumerate(x):\n",
        "        for j, yj in enumerate(y):\n",
        "            P[i, j] = clf.decision_function([xi, yj])\n",
        "    return ax.contour(X, Y, P, colors='k',\n",
        "                      levels=[-1, 0, 1], alpha=0.5,\n",
        "                      linestyles=['--', '-', '--'])"
      ],
      "execution_count": 0,
      "outputs": []
    },
    {
      "cell_type": "code",
      "metadata": {
        "id": "hr9v1rvgQrEl",
        "colab_type": "code",
        "colab": {}
      },
      "source": [
        "plt.figure()\n",
        "ax=plt.gca()\n",
        "points_plot(ax, Xtrain, Xtest, ytrain, ytest, clfsvm);\n",
        "plot_svc_decision_function(clfsvm, ax)\n",
        "ax.scatter(clfsvm.support_vectors_[:, 0], clfsvm.support_vectors_[:, 1],s=200, facecolors='none')\n",
        "plt.ylim([125,225])"
      ],
      "execution_count": 0,
      "outputs": []
    },
    {
      "cell_type": "markdown",
      "metadata": {
        "id": "j4wJt99XQzxy",
        "colab_type": "text"
      },
      "source": [
        "# Confusion Matrix"
      ]
    },
    {
      "cell_type": "code",
      "metadata": {
        "id": "QusUS301QuUZ",
        "colab_type": "code",
        "colab": {}
      },
      "source": [
        "confusion_matrix(ytest, clflog.predict(Xtest))"
      ],
      "execution_count": 0,
      "outputs": []
    },
    {
      "cell_type": "code",
      "metadata": {
        "id": "2bCayfp4Q6lY",
        "colab_type": "code",
        "colab": {}
      },
      "source": [
        "from sklearn.metrics import classification_report\n",
        "print(classification_report(ytest, clflog.predict(Xtest)))"
      ],
      "execution_count": 0,
      "outputs": []
    },
    {
      "cell_type": "markdown",
      "metadata": {
        "id": "ttKGA3pURF8o",
        "colab_type": "text"
      },
      "source": [
        "The Cancer Doctor"
      ]
    },
    {
      "cell_type": "code",
      "metadata": {
        "id": "GAmHXlPgRC8o",
        "colab_type": "code",
        "colab": {}
      },
      "source": [
        "def t_repredict(est,t, xtest):\n",
        "    probs=est.predict_proba(xtest)\n",
        "    p0 = probs[:,0]\n",
        "    p1 = probs[:,1]\n",
        "    ypred = (p1 > t)*1\n",
        "    return ypred"
      ],
      "execution_count": 0,
      "outputs": []
    },
    {
      "cell_type": "code",
      "metadata": {
        "id": "_AnYZISkROHK",
        "colab_type": "code",
        "colab": {}
      },
      "source": [
        "confusion_matrix(ytest, t_repredict(clflog, 0.1, Xtest))"
      ],
      "execution_count": 0,
      "outputs": []
    },
    {
      "cell_type": "markdown",
      "metadata": {
        "id": "efKFTEoJRS-N",
        "colab_type": "text"
      },
      "source": [
        "# ROC Curve"
      ]
    },
    {
      "cell_type": "code",
      "metadata": {
        "id": "I_Ws6FTERQxg",
        "colab_type": "code",
        "colab": {}
      },
      "source": [
        "def make_roc(name, clf, ytest, xtest, ax=None, labe=5, proba=True, skip=0):\n",
        "    initial=False\n",
        "    if not ax:\n",
        "        ax=plt.gca()\n",
        "        initial=True\n",
        "    if proba:\n",
        "        fpr, tpr, thresholds=roc_curve(ytest, clf.predict_proba(xtest)[:,1])\n",
        "    else:\n",
        "        fpr, tpr, thresholds=roc_curve(ytest, clf.decision_function(xtest))\n",
        "    roc_auc = auc(fpr, tpr)\n",
        "    if skip:\n",
        "        l=fpr.shape[0]\n",
        "        ax.plot(fpr[0:l:skip], tpr[0:l:skip], '.-', alpha=0.3, label='ROC curve for %s (area = %0.2f)' % (name, roc_auc))\n",
        "    else:\n",
        "        ax.plot(fpr, tpr, '.-', alpha=0.3, label='ROC curve for %s (area = %0.2f)' % (name, roc_auc))\n",
        "    label_kwargs = {}\n",
        "    label_kwargs['bbox'] = dict(\n",
        "        boxstyle='round,pad=0.3', alpha=0.2,\n",
        "    )\n",
        "    for k in range(0, fpr.shape[0],labe):\n",
        "        threshold = str(np.round(thresholds[k], 2))\n",
        "        ax.annotate(threshold, (fpr[k], tpr[k]), **label_kwargs)\n",
        "    if initial:\n",
        "        ax.plot([0, 1], [0, 1], 'k--')\n",
        "        ax.set_xlim([0.0, 1.0])\n",
        "        ax.set_ylim([0.0, 1.05])\n",
        "        ax.set_xlabel('False Positive Rate')\n",
        "        ax.set_ylabel('True Positive Rate')\n",
        "        ax.set_title('ROC')\n",
        "    ax.legend(loc=\"lower right\")\n",
        "    return ax"
      ],
      "execution_count": 0,
      "outputs": []
    },
    {
      "cell_type": "code",
      "metadata": {
        "id": "_kF7NrxcRcRz",
        "colab_type": "code",
        "colab": {}
      },
      "source": [
        "from sklearn.metrics import roc_curve, auc\n",
        "ax=make_roc(\"logistic\", clflog, ytest, Xtest, labe=10)"
      ],
      "execution_count": 0,
      "outputs": []
    },
    {
      "cell_type": "code",
      "metadata": {
        "id": "2Pjyz54BRneA",
        "colab_type": "code",
        "colab": {}
      },
      "source": [
        "make_roc(\"svm\", clfsvm, ytest, Xtest, labe=10, proba=False)"
      ],
      "execution_count": 0,
      "outputs": []
    }
  ]
}