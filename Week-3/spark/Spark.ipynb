{
  "nbformat": 4,
  "nbformat_minor": 0,
  "metadata": {
    "colab": {
      "name": "Spark.ipynb",
      "version": "0.3.2",
      "provenance": []
    },
    "kernelspec": {
      "name": "python3",
      "display_name": "Python 3"
    },
    "accelerator": "GPU"
  },
  "cells": [
    {
      "cell_type": "code",
      "metadata": {
        "id": "cl9bu3WyOX18",
        "colab_type": "code",
        "colab": {}
      },
      "source": [
        "import matplotlib as mpl\n",
        "import numpy as np\n",
        "import pandas as pd\n",
        "import seaborn as sns\n",
        "import matplotlib.pyplot as plt\n",
        "\n",
        "%matplotlib inline\n",
        "\n",
        "pd.set_option('display.width', 500)\n",
        "pd.set_option('display.max_columns', 100)"
      ],
      "execution_count": 0,
      "outputs": []
    },
    {
      "cell_type": "code",
      "metadata": {
        "id": "NXT9qVW0O1_Y",
        "colab_type": "code",
        "colab": {}
      },
      "source": [
        "!apt-get install openjdk-8-jdk-headless -qq > /dev/null\n",
        "!wget -q https://www-us.apache.org/dist/spark/spark-2.4.3/spark-2.4.3-bin-hadoop2.7.tgz\n",
        "!tar xf spark-2.4.3-bin-hadoop2.7.tgz\n",
        "!pip install -q findspark"
      ],
      "execution_count": 0,
      "outputs": []
    },
    {
      "cell_type": "code",
      "metadata": {
        "id": "vRQ6JPYpPB0B",
        "colab_type": "code",
        "colab": {}
      },
      "source": [
        "import os\n",
        "os.environ[\"JAVA_HOME\"] = \"/usr/lib/jvm/java-8-openjdk-amd64\"\n",
        "os.environ[\"SPARK_HOME\"] = \"/content/spark-2.4.3-bin-hadoop2.7\""
      ],
      "execution_count": 0,
      "outputs": []
    },
    {
      "cell_type": "code",
      "metadata": {
        "id": "cqNfiJC-PG8h",
        "colab_type": "code",
        "colab": {
          "base_uri": "https://localhost:8080/",
          "height": 219
        },
        "outputId": "80f6047b-75ba-436f-9f9a-5cb82d4b9013"
      },
      "source": [
        "# import findspark\n",
        "# findspark.init()\n",
        "# from pyspark.sql import SparkSession\n",
        "# spark = SparkSession.builder.master(\"local[*]\").getOrCreate()\n",
        "\n",
        "import findspark\n",
        "findspark.init()\n",
        "import pyspark\n",
        "sc = pyspark.SparkContext()"
      ],
      "execution_count": 60,
      "outputs": [
        {
          "output_type": "error",
          "ename": "ValueError",
          "evalue": "ignored",
          "traceback": [
            "\u001b[0;31m---------------------------------------------------------------------------\u001b[0m",
            "\u001b[0;31mValueError\u001b[0m                                Traceback (most recent call last)",
            "\u001b[0;32m<ipython-input-60-e04d2f36c1dc>\u001b[0m in \u001b[0;36m<module>\u001b[0;34m()\u001b[0m\n\u001b[1;32m      3\u001b[0m \u001b[0mfindspark\u001b[0m\u001b[0;34m.\u001b[0m\u001b[0minit\u001b[0m\u001b[0;34m(\u001b[0m\u001b[0;34m)\u001b[0m\u001b[0;34m\u001b[0m\u001b[0;34m\u001b[0m\u001b[0m\n\u001b[1;32m      4\u001b[0m \u001b[0;32mimport\u001b[0m \u001b[0mpyspark\u001b[0m\u001b[0;34m\u001b[0m\u001b[0;34m\u001b[0m\u001b[0m\n\u001b[0;32m----> 5\u001b[0;31m \u001b[0msc\u001b[0m \u001b[0;34m=\u001b[0m \u001b[0mpyspark\u001b[0m\u001b[0;34m.\u001b[0m\u001b[0mSparkContext\u001b[0m\u001b[0;34m(\u001b[0m\u001b[0;34m)\u001b[0m\u001b[0;34m\u001b[0m\u001b[0;34m\u001b[0m\u001b[0m\n\u001b[0m",
            "\u001b[0;32m/content/spark-2.4.3-bin-hadoop2.7/python/pyspark/context.py\u001b[0m in \u001b[0;36m__init__\u001b[0;34m(self, master, appName, sparkHome, pyFiles, environment, batchSize, serializer, conf, gateway, jsc, profiler_cls)\u001b[0m\n\u001b[1;32m    131\u001b[0m                     \" note this option will be removed in Spark 3.0\")\n\u001b[1;32m    132\u001b[0m \u001b[0;34m\u001b[0m\u001b[0m\n\u001b[0;32m--> 133\u001b[0;31m         \u001b[0mSparkContext\u001b[0m\u001b[0;34m.\u001b[0m\u001b[0m_ensure_initialized\u001b[0m\u001b[0;34m(\u001b[0m\u001b[0mself\u001b[0m\u001b[0;34m,\u001b[0m \u001b[0mgateway\u001b[0m\u001b[0;34m=\u001b[0m\u001b[0mgateway\u001b[0m\u001b[0;34m,\u001b[0m \u001b[0mconf\u001b[0m\u001b[0;34m=\u001b[0m\u001b[0mconf\u001b[0m\u001b[0;34m)\u001b[0m\u001b[0;34m\u001b[0m\u001b[0;34m\u001b[0m\u001b[0m\n\u001b[0m\u001b[1;32m    134\u001b[0m         \u001b[0;32mtry\u001b[0m\u001b[0;34m:\u001b[0m\u001b[0;34m\u001b[0m\u001b[0;34m\u001b[0m\u001b[0m\n\u001b[1;32m    135\u001b[0m             self._do_init(master, appName, sparkHome, pyFiles, environment, batchSize, serializer,\n",
            "\u001b[0;32m/content/spark-2.4.3-bin-hadoop2.7/python/pyspark/context.py\u001b[0m in \u001b[0;36m_ensure_initialized\u001b[0;34m(cls, instance, gateway, conf)\u001b[0m\n\u001b[1;32m    330\u001b[0m                         \u001b[0;34m\" created by %s at %s:%s \"\u001b[0m\u001b[0;34m\u001b[0m\u001b[0;34m\u001b[0m\u001b[0m\n\u001b[1;32m    331\u001b[0m                         % (currentAppName, currentMaster,\n\u001b[0;32m--> 332\u001b[0;31m                             callsite.function, callsite.file, callsite.linenum))\n\u001b[0m\u001b[1;32m    333\u001b[0m                 \u001b[0;32melse\u001b[0m\u001b[0;34m:\u001b[0m\u001b[0;34m\u001b[0m\u001b[0;34m\u001b[0m\u001b[0m\n\u001b[1;32m    334\u001b[0m                     \u001b[0mSparkContext\u001b[0m\u001b[0;34m.\u001b[0m\u001b[0m_active_spark_context\u001b[0m \u001b[0;34m=\u001b[0m \u001b[0minstance\u001b[0m\u001b[0;34m\u001b[0m\u001b[0;34m\u001b[0m\u001b[0m\n",
            "\u001b[0;31mValueError\u001b[0m: Cannot run multiple SparkContexts at once; existing SparkContext(app=pyspark-shell, master=local[*]) created by __init__ at <ipython-input-34-e04d2f36c1dc>:5 "
          ]
        }
      ]
    },
    {
      "cell_type": "code",
      "metadata": {
        "id": "JeP6SjK_PZLd",
        "colab_type": "code",
        "colab": {}
      },
      "source": [
        "sc"
      ],
      "execution_count": 0,
      "outputs": []
    },
    {
      "cell_type": "code",
      "metadata": {
        "id": "qL14o8AnPaWS",
        "colab_type": "code",
        "colab": {}
      },
      "source": [
        "sc.parallelize([1, 2, 3, 4, 5, 6, 7, 8, 9, 10]).map(lambda x : x**2).sum()"
      ],
      "execution_count": 0,
      "outputs": []
    },
    {
      "cell_type": "markdown",
      "metadata": {
        "id": "y3jsDAyzPlBF",
        "colab_type": "text"
      },
      "source": [
        "# CREATE A RDD"
      ]
    },
    {
      "cell_type": "code",
      "metadata": {
        "id": "aP8XUtU3PjYS",
        "colab_type": "code",
        "colab": {}
      },
      "source": [
        "wordsList = ['cat', 'elephant', 'rat', 'rat', 'cat']\n",
        "wordsRDD = sc.parallelize(wordsList, 4)\n",
        "print(type(wordsRDD))"
      ],
      "execution_count": 0,
      "outputs": []
    },
    {
      "cell_type": "code",
      "metadata": {
        "id": "6xd135sZP5rB",
        "colab_type": "code",
        "colab": {}
      },
      "source": [
        "?sc.parallelize()"
      ],
      "execution_count": 0,
      "outputs": []
    },
    {
      "cell_type": "code",
      "metadata": {
        "id": "SEAYspNzQIx7",
        "colab_type": "code",
        "colab": {}
      },
      "source": [
        "sc.parallelize([0, 2, 3, 4, 6], 5).glom().collect()"
      ],
      "execution_count": 0,
      "outputs": []
    },
    {
      "cell_type": "code",
      "metadata": {
        "id": "MdAudD62QqTV",
        "colab_type": "code",
        "colab": {}
      },
      "source": [
        "sc.parallelize(range(0, 6, 2), 5).glom().collect()"
      ],
      "execution_count": 0,
      "outputs": []
    },
    {
      "cell_type": "code",
      "metadata": {
        "id": "j4-zdL2dQ7S6",
        "colab_type": "code",
        "colab": {}
      },
      "source": [
        "wordsRDD.collect()"
      ],
      "execution_count": 0,
      "outputs": []
    },
    {
      "cell_type": "markdown",
      "metadata": {
        "id": "m6lZngfzREMr",
        "colab_type": "text"
      },
      "source": [
        "# OPERATIONS ON RDD"
      ]
    },
    {
      "cell_type": "markdown",
      "metadata": {
        "id": "7kL0qLG1RMOE",
        "colab_type": "text"
      },
      "source": [
        "**RDDs support two types of operations: transformations, which create a new dataset from an existing one, and actions, which return a value to the driver program after running a computation on the dataset. For example, map is a transformation that passes each dataset element through a function and returns a new RDD representing the results. On the other hand, reduce is an action that aggregates all the elements of the RDD using some function and returns the final result to the driver program (although there is also a parallel reduceByKey that returns a distributed dataset).**"
      ]
    },
    {
      "cell_type": "markdown",
      "metadata": {
        "id": "-Fj2AAB5RRWr",
        "colab_type": "text"
      },
      "source": [
        "**Word Examples**"
      ]
    },
    {
      "cell_type": "code",
      "metadata": {
        "id": "Y4F9Hx_CRCTK",
        "colab_type": "code",
        "colab": {}
      },
      "source": [
        "def makePlural(word):\n",
        "  return word + 's'\n",
        "\n",
        "print(makePlural('cat'))"
      ],
      "execution_count": 0,
      "outputs": []
    },
    {
      "cell_type": "markdown",
      "metadata": {
        "id": "Wh-gYlKURqmw",
        "colab_type": "text"
      },
      "source": [
        "Transform one RDD into another"
      ]
    },
    {
      "cell_type": "code",
      "metadata": {
        "id": "JnCt-C-DRo4m",
        "colab_type": "code",
        "colab": {}
      },
      "source": [
        "pluralRDD = wordsRDD.map(makePlural)\n",
        "print(pluralRDD.first())\n",
        "print(pluralRDD.take(2))"
      ],
      "execution_count": 0,
      "outputs": []
    },
    {
      "cell_type": "code",
      "metadata": {
        "id": "x5UFMz8FR-GT",
        "colab_type": "code",
        "colab": {}
      },
      "source": [
        "pluralRDD.take(1)"
      ],
      "execution_count": 0,
      "outputs": []
    },
    {
      "cell_type": "code",
      "metadata": {
        "id": "UwQSHHr9SBqS",
        "colab_type": "code",
        "colab": {}
      },
      "source": [
        "pluralRDD.collect()"
      ],
      "execution_count": 0,
      "outputs": []
    },
    {
      "cell_type": "markdown",
      "metadata": {
        "id": "J6iI9MSiSGfT",
        "colab_type": "text"
      },
      "source": [
        "**Key Value Pairs**"
      ]
    },
    {
      "cell_type": "code",
      "metadata": {
        "id": "DmX_iLdeSEsN",
        "colab_type": "code",
        "colab": {}
      },
      "source": [
        "wordPairs = wordsRDD.map(lambda w : (w, 1))\n",
        "print(wordPairs.collect())"
      ],
      "execution_count": 0,
      "outputs": []
    },
    {
      "cell_type": "markdown",
      "metadata": {
        "id": "ncBxbfuRSUtT",
        "colab_type": "text"
      },
      "source": [
        "# WORD COUNT"
      ]
    },
    {
      "cell_type": "code",
      "metadata": {
        "id": "oLMEJA2rSEq5",
        "colab_type": "code",
        "colab": {}
      },
      "source": [
        "wordsList = ['cat', 'elephant', 'rat', 'rat', 'cat']\n",
        "wordsRDD = sc.parallelize(wordsList, 4)\n",
        "wordCountsCollected = (wordsRDD.map(lambda w : (w, 1)).reduceByKey(lambda x,y : x+y).collect())\n",
        "print(wordCountsCollected)"
      ],
      "execution_count": 0,
      "outputs": []
    },
    {
      "cell_type": "code",
      "metadata": {
        "id": "jNG-jjcLS7Gd",
        "colab_type": "code",
        "colab": {}
      },
      "source": [
        "print(wordsRDD.map(lambda w : (w, 1)).reduceByKey(lambda x,y : x+y).toDebugString())"
      ],
      "execution_count": 0,
      "outputs": []
    },
    {
      "cell_type": "markdown",
      "metadata": {
        "id": "pRRo6Ue0Ta6P",
        "colab_type": "text"
      },
      "source": [
        "# Using Cache"
      ]
    },
    {
      "cell_type": "code",
      "metadata": {
        "id": "dSK2v-u1TZI6",
        "colab_type": "code",
        "colab": {}
      },
      "source": [
        "wordsList = ['cat', 'elephant', 'rat', 'rat', 'cat']\n",
        "wordsRDD = sc.parallelize(wordsList, 4)\n",
        "print(wordsRDD)\n",
        "wordsRDD.count()"
      ],
      "execution_count": 0,
      "outputs": []
    },
    {
      "cell_type": "code",
      "metadata": {
        "id": "2jD71THCTlSj",
        "colab_type": "code",
        "colab": {}
      },
      "source": [
        "wordsRDD.count()"
      ],
      "execution_count": 0,
      "outputs": []
    },
    {
      "cell_type": "code",
      "metadata": {
        "id": "JqEkffBBTpoL",
        "colab_type": "code",
        "colab": {}
      },
      "source": [
        "wordsRDD.cache()"
      ],
      "execution_count": 0,
      "outputs": []
    },
    {
      "cell_type": "code",
      "metadata": {
        "id": "olGDLqxJTtZj",
        "colab_type": "code",
        "colab": {}
      },
      "source": [
        "wordsRDD.count()"
      ],
      "execution_count": 0,
      "outputs": []
    },
    {
      "cell_type": "code",
      "metadata": {
        "id": "XWr8XmW2T3Ew",
        "colab_type": "code",
        "colab": {}
      },
      "source": [
        "wordsRDD.count()"
      ],
      "execution_count": 0,
      "outputs": []
    },
    {
      "cell_type": "markdown",
      "metadata": {
        "id": "ecOMhmlnT9r9",
        "colab_type": "text"
      },
      "source": [
        "**Where is this useful: it is when you have branching parts or loops, so that you dont do things again and again. Spark, being \"lazy\" will rerun the chain again. So cache or persist serves as a checkpoint, breaking the RDD chain or the lineage.**"
      ]
    },
    {
      "cell_type": "code",
      "metadata": {
        "id": "vCqfAwkkT7uV",
        "colab_type": "code",
        "colab": {}
      },
      "source": [
        "birdsList = ['heron', 'owl']\n",
        "animList = wordsList + birdsList\n",
        "\n",
        "animaldict = {}\n",
        "for e in wordsList:\n",
        "  animaldict[e] = 'mammal'\n",
        "for e in birdsList:\n",
        "  animaldict[e] = 'bird'\n",
        "  \n",
        "animaldict"
      ],
      "execution_count": 0,
      "outputs": []
    },
    {
      "cell_type": "code",
      "metadata": {
        "id": "Jbphyp4iUnXC",
        "colab_type": "code",
        "colab": {}
      },
      "source": [
        "animsrdd = sc.parallelize(animList, 4)\n",
        "animsrdd.cache()\n",
        "\n",
        "mammalcount = animsrdd.filter(lambda w : animaldict[w] == 'mammal').count()\n",
        "birdcount = animsrdd.filter(lambda w : animaldict[w] == 'bird').count()\n",
        "\n",
        "print(mammalcount, birdcount)"
      ],
      "execution_count": 0,
      "outputs": []
    },
    {
      "cell_type": "code",
      "metadata": {
        "id": "FM2bO6zoC_Sn",
        "colab_type": "code",
        "colab": {}
      },
      "source": [
        "stopwords = [e.strip() for e in open('english.stop.txt').readlines()]"
      ],
      "execution_count": 0,
      "outputs": []
    },
    {
      "cell_type": "code",
      "metadata": {
        "id": "J6dEaBtrDOmA",
        "colab_type": "code",
        "colab": {}
      },
      "source": [
        "juliusrdd = sc.textFile('juliuscaesar.txt')"
      ],
      "execution_count": 0,
      "outputs": []
    },
    {
      "cell_type": "code",
      "metadata": {
        "id": "6GwqgCgrDwqZ",
        "colab_type": "code",
        "colab": {}
      },
      "source": [
        "juliusrdd.flatMap(lambda line : line.split()).count()"
      ],
      "execution_count": 0,
      "outputs": []
    },
    {
      "cell_type": "code",
      "metadata": {
        "id": "Kg42TwDJD7qv",
        "colab_type": "code",
        "colab": {}
      },
      "source": [
        "(juliusrdd.flatMap(lambda line : line.split()).map(lambda word : word.strip().lower()).collect())"
      ],
      "execution_count": 0,
      "outputs": []
    },
    {
      "cell_type": "code",
      "metadata": {
        "id": "Pmkzy7wcD7of",
        "colab_type": "code",
        "colab": {}
      },
      "source": [
        "(juliusrdd.flatMap(lambda line : line.split()).map(lambda word : word.strip().lower()).take(20))"
      ],
      "execution_count": 0,
      "outputs": []
    },
    {
      "cell_type": "code",
      "metadata": {
        "id": "IqFuqeVOEb3G",
        "colab_type": "code",
        "colab": {}
      },
      "source": [
        "(juliusrdd.flatMap(lambda line : line.split()).map(lambda word : word.strip().lower()).filter(lambda word : word not in stopwords).collect())"
      ],
      "execution_count": 0,
      "outputs": []
    },
    {
      "cell_type": "code",
      "metadata": {
        "id": "Bp-yNXJTEs4o",
        "colab_type": "code",
        "colab": {}
      },
      "source": [
        "(juliusrdd.flatMap(lambda line : line.split()).map(lambda word : word.strip().lower()).filter(lambda word : word not in stopwords).take(20))"
      ],
      "execution_count": 0,
      "outputs": []
    },
    {
      "cell_type": "code",
      "metadata": {
        "id": "PyZ4BrVREx-m",
        "colab_type": "code",
        "colab": {}
      },
      "source": [
        "(juliusrdd.flatMap(lambda line : line.split()).map(lambda word : word.strip().lower()).filter(lambda word : word not in stopwords).map(lambda word : (word, 1)).collect())"
      ],
      "execution_count": 0,
      "outputs": []
    },
    {
      "cell_type": "code",
      "metadata": {
        "id": "p67vFz70E8jc",
        "colab_type": "code",
        "colab": {}
      },
      "source": [
        "(juliusrdd.flatMap(lambda line : line.split()).map(lambda word : word.strip().lower()).filter(lambda word : word not in stopwords).map(lambda word : (word, 1)).take(20))"
      ],
      "execution_count": 0,
      "outputs": []
    },
    {
      "cell_type": "code",
      "metadata": {
        "id": "WiuSqVaHE_lS",
        "colab_type": "code",
        "colab": {}
      },
      "source": [
        "(juliusrdd.flatMap(lambda line : line.split()).map(lambda word : word.strip().lower()).filter(lambda word : word not in stopwords).map(lambda word : (word, 1)).reduceByKey(lambda a,b : a + b).collect())"
      ],
      "execution_count": 0,
      "outputs": []
    },
    {
      "cell_type": "code",
      "metadata": {
        "id": "VcyrGkJcFYgW",
        "colab_type": "code",
        "colab": {}
      },
      "source": [
        "(juliusrdd.flatMap(lambda line : line.split()).map(lambda word : word.strip().lower()).filter(lambda word : word not in stopwords).map(lambda word : (word, 1)).reduceByKey(lambda a,b : a + b).take(20))"
      ],
      "execution_count": 0,
      "outputs": []
    },
    {
      "cell_type": "code",
      "metadata": {
        "id": "b0QhlGKOFmjY",
        "colab_type": "code",
        "colab": {}
      },
      "source": [
        "(juliusrdd.flatMap(lambda line : line.split()).map(lambda word : word.strip().lower()).filter(lambda word : word not in stopwords).map(lambda word : (word, 1)).reduceByKey(lambda a,b : a + b).takeOrdered(20, lambda x : -x[1]))"
      ],
      "execution_count": 0,
      "outputs": []
    },
    {
      "cell_type": "code",
      "metadata": {
        "id": "wc__6YYtFxxs",
        "colab_type": "code",
        "colab": {}
      },
      "source": [
        "captions, counts = zip(*juliusrdd.flatMap(lambda line : line.split()).map(lambda word : word.strip().lower()).filter(lambda word : word not in stopwords).map(lambda word : (word, 1)).reduceByKey(lambda a,b : a + b).takeOrdered(20, lambda x : -x[1]))\n",
        "\n",
        "pos = np.arange(len(counts))\n",
        "plt.bar(pos, counts)\n",
        "plt.xticks(pos+0.4, captions, rotation=90)"
      ],
      "execution_count": 0,
      "outputs": []
    },
    {
      "cell_type": "code",
      "metadata": {
        "id": "6Ur8AhqIHARV",
        "colab_type": "code",
        "colab": {}
      },
      "source": [
        "from google.colab import files\n",
        "upload = files.upload()"
      ],
      "execution_count": 0,
      "outputs": []
    },
    {
      "cell_type": "code",
      "metadata": {
        "id": "_3T5of7gKEAd",
        "colab_type": "code",
        "colab": {}
      },
      "source": [
        "shakesrdd = sc.textFile('*.txt', minPartitions = 4)"
      ],
      "execution_count": 0,
      "outputs": []
    },
    {
      "cell_type": "code",
      "metadata": {
        "id": "90yMtYNVKTg7",
        "colab_type": "code",
        "colab": {}
      },
      "source": [
        "shakesrdd.collect()"
      ],
      "execution_count": 0,
      "outputs": []
    },
    {
      "cell_type": "code",
      "metadata": {
        "id": "8s3VPHZLKY0h",
        "colab_type": "code",
        "colab": {}
      },
      "source": [
        "shakesrdd.take(10)"
      ],
      "execution_count": 0,
      "outputs": []
    },
    {
      "cell_type": "code",
      "metadata": {
        "id": "H14vwbnRKgGM",
        "colab_type": "code",
        "colab": {}
      },
      "source": [
        "(shakesrdd.flatMap(lambda line : line.split()).map(lambda word : word.strip().lower()).filter(lambda word : word not in stopwords).map(lambda word : (word, 1)).reduceByKey(lambda a,b : a+b).sortByKey(0,1).take(30))"
      ],
      "execution_count": 0,
      "outputs": []
    },
    {
      "cell_type": "code",
      "metadata": {
        "id": "PJPKMrzDNb7v",
        "colab_type": "code",
        "colab": {}
      },
      "source": [
        "from google.colab import files\n",
        "upload = files.upload()"
      ],
      "execution_count": 0,
      "outputs": []
    },
    {
      "cell_type": "code",
      "metadata": {
        "id": "p12snBHCOVvB",
        "colab_type": "code",
        "colab": {}
      },
      "source": [
        "df = pd.read_csv('01_heights_weights_genders.csv')\n",
        "df.head()"
      ],
      "execution_count": 0,
      "outputs": []
    },
    {
      "cell_type": "code",
      "metadata": {
        "id": "F7KMq6RKOcCx",
        "colab_type": "code",
        "colab": {}
      },
      "source": [
        "from pyspark.sql import SQLContext\n",
        "sqlsc = SQLContext(sc)\n",
        "sparkdf = sqlsc.createDataFrame(df)"
      ],
      "execution_count": 0,
      "outputs": []
    },
    {
      "cell_type": "code",
      "metadata": {
        "id": "rKeDbwZSOtN9",
        "colab_type": "code",
        "colab": {}
      },
      "source": [
        "sparkdf"
      ],
      "execution_count": 0,
      "outputs": []
    },
    {
      "cell_type": "code",
      "metadata": {
        "id": "FPhRc_pqOwU8",
        "colab_type": "code",
        "colab": {}
      },
      "source": [
        "sparkdf.show(10)"
      ],
      "execution_count": 0,
      "outputs": []
    },
    {
      "cell_type": "code",
      "metadata": {
        "id": "nmGkIz5POzQA",
        "colab_type": "code",
        "colab": {}
      },
      "source": [
        "type(sparkdf.Gender)"
      ],
      "execution_count": 0,
      "outputs": []
    },
    {
      "cell_type": "code",
      "metadata": {
        "id": "wYBTXG_IO6-p",
        "colab_type": "code",
        "colab": {}
      },
      "source": [
        "temp = sparkdf.rdd.map(lambda r : r.Gender)\n",
        "print(type(temp))\n",
        "temp.take(10)"
      ],
      "execution_count": 0,
      "outputs": []
    },
    {
      "cell_type": "markdown",
      "metadata": {
        "id": "q1QpsOBtPYCV",
        "colab_type": "text"
      },
      "source": [
        "# Machine Learning"
      ]
    },
    {
      "cell_type": "code",
      "metadata": {
        "id": "zMZhnLzoPWNs",
        "colab_type": "code",
        "colab": {}
      },
      "source": [
        "from pyspark.mllib.classification import LogisticRegressionWithLBFGS\n",
        "from pyspark.mllib.regression import LabeledPoint\n",
        "\n",
        "data = sparkdf.rdd.map(lambda row : LabeledPoint(row.Gender == 'Male', [row.Height, row.Weight]))\n",
        "data.take(5)"
      ],
      "execution_count": 0,
      "outputs": []
    },
    {
      "cell_type": "code",
      "metadata": {
        "id": "gaAJCuW7P93D",
        "colab_type": "code",
        "colab": {}
      },
      "source": [
        "data2 = sparkdf.rdd.map(lambda row : LabeledPoint(row[0] == 'Male', row[1:]))\n",
        "data2.take(5)[0].label, data2.take(5)[1].features"
      ],
      "execution_count": 0,
      "outputs": []
    },
    {
      "cell_type": "code",
      "metadata": {
        "id": "Arh7-AaiQXhL",
        "colab_type": "code",
        "colab": {}
      },
      "source": [
        "train, test = data.randomSplit([0.7, 0.3])\n",
        "train.cache()\n",
        "test.cache()"
      ],
      "execution_count": 0,
      "outputs": []
    },
    {
      "cell_type": "code",
      "metadata": {
        "id": "t-7j92NWQhTn",
        "colab_type": "code",
        "colab": {}
      },
      "source": [
        "type(train)"
      ],
      "execution_count": 0,
      "outputs": []
    },
    {
      "cell_type": "code",
      "metadata": {
        "id": "M60Bp4uwQjrs",
        "colab_type": "code",
        "colab": {}
      },
      "source": [
        "type(test)"
      ],
      "execution_count": 0,
      "outputs": []
    },
    {
      "cell_type": "code",
      "metadata": {
        "id": "pM4JHb1GQlPd",
        "colab_type": "code",
        "colab": {}
      },
      "source": [
        "model = LogisticRegressionWithLBFGS.train(train)"
      ],
      "execution_count": 0,
      "outputs": []
    },
    {
      "cell_type": "code",
      "metadata": {
        "id": "dw9e7f4OQxMW",
        "colab_type": "code",
        "colab": {}
      },
      "source": [
        "model.weights"
      ],
      "execution_count": 0,
      "outputs": []
    },
    {
      "cell_type": "code",
      "metadata": {
        "id": "Xq37wCegQ0l8",
        "colab_type": "code",
        "colab": {}
      },
      "source": [
        "results = test.map(lambda lp : (lp.label, float(model.predict(lp.features))))"
      ],
      "execution_count": 0,
      "outputs": []
    },
    {
      "cell_type": "code",
      "metadata": {
        "id": "cdfZXA6JRFYy",
        "colab_type": "code",
        "colab": {}
      },
      "source": [
        "results.take(10)"
      ],
      "execution_count": 0,
      "outputs": []
    },
    {
      "cell_type": "code",
      "metadata": {
        "id": "JrTKFiOeRHm7",
        "colab_type": "code",
        "colab": {}
      },
      "source": [
        "type(results)"
      ],
      "execution_count": 0,
      "outputs": []
    },
    {
      "cell_type": "code",
      "metadata": {
        "id": "WeRJ49mNRKl_",
        "colab_type": "code",
        "colab": {}
      },
      "source": [
        "from pyspark.mllib.evaluation import BinaryClassificationMetrics\n",
        "metrics = BinaryClassificationMetrics(results)"
      ],
      "execution_count": 0,
      "outputs": []
    },
    {
      "cell_type": "code",
      "metadata": {
        "id": "uFbu1Qc7Tjn4",
        "colab_type": "code",
        "colab": {}
      },
      "source": [
        "print(type(metrics))\n",
        "metrics.areaUnderROC"
      ],
      "execution_count": 0,
      "outputs": []
    },
    {
      "cell_type": "code",
      "metadata": {
        "id": "dr2K4pUcToI_",
        "colab_type": "code",
        "colab": {}
      },
      "source": [
        "type(model)"
      ],
      "execution_count": 0,
      "outputs": []
    },
    {
      "cell_type": "code",
      "metadata": {
        "id": "L0D4fGXiTq7_",
        "colab_type": "code",
        "colab": {}
      },
      "source": [
        "!rm -rf mylogistic.model"
      ],
      "execution_count": 0,
      "outputs": []
    },
    {
      "cell_type": "code",
      "metadata": {
        "id": "6eMzElS_UFZG",
        "colab_type": "code",
        "colab": {}
      },
      "source": [
        "sc.stop()"
      ],
      "execution_count": 0,
      "outputs": []
    }
  ]
}