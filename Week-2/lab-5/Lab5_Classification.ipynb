{
  "nbformat": 4,
  "nbformat_minor": 0,
  "metadata": {
    "colab": {
      "name": "Lab5_Classification.ipynb",
      "version": "0.3.2",
      "provenance": []
    },
    "kernelspec": {
      "name": "python3",
      "display_name": "Python 3"
    },
    "accelerator": "GPU"
  },
  "cells": [
    {
      "cell_type": "code",
      "metadata": {
        "id": "N7kzksgx9EDY",
        "colab_type": "code",
        "colab": {}
      },
      "source": [
        "import numpy as np\n",
        "import scipy as sp\n",
        "import matplotlib as mpl\n",
        "import matplotlib.cm as cm\n",
        "import matplotlib.pyplot as plt\n",
        "import pandas as pd\n",
        "pd.set_option('display.width', 500)\n",
        "pd.set_option('display.max_columns', 100)\n",
        "pd.set_option('display.notebook_repr_html', True)\n",
        "import seaborn as sns\n",
        "sns.set_style(\"whitegrid\")\n",
        "sns.set_context(\"poster\")\n",
        "from PIL import Image\n",
        "\n",
        "%matplotlib inline"
      ],
      "execution_count": 0,
      "outputs": []
    },
    {
      "cell_type": "code",
      "metadata": {
        "id": "N66ZXHtz9V-R",
        "colab_type": "code",
        "colab": {}
      },
      "source": [
        "c0=sns.color_palette()[0]\n",
        "c1=sns.color_palette()[1]\n",
        "c2=sns.color_palette()[2]"
      ],
      "execution_count": 0,
      "outputs": []
    },
    {
      "cell_type": "code",
      "metadata": {
        "id": "1pqoNWph9W8J",
        "colab_type": "code",
        "colab": {}
      },
      "source": [
        "from matplotlib.colors import ListedColormap\n",
        "cmap_light = ListedColormap(['#FFAAAA', '#AAFFAA', '#AAAAFF'])\n",
        "cmap_bold = ListedColormap(['#FF0000', '#00FF00', '#0000FF'])\n",
        "cm = plt.cm.RdBu\n",
        "cm_bright = ListedColormap(['#FF0000', '#0000FF'])\n",
        "\n",
        "def points_plot(ax, Xtr, Xte, ytr, yte, clf, mesh=True, colorscale=cmap_light, cdiscrete=cmap_bold, alpha=0.1, psize=10, zfunc=False, predicted=False):\n",
        "    h = .02\n",
        "    X=np.concatenate((Xtr, Xte))\n",
        "    x_min, x_max = X[:, 0].min() - .5, X[:, 0].max() + .5\n",
        "    y_min, y_max = X[:, 1].min() - .5, X[:, 1].max() + .5\n",
        "    xx, yy = np.meshgrid(np.linspace(x_min, x_max, 100),\n",
        "                         np.linspace(y_min, y_max, 100))\n",
        "\n",
        "    #plt.figure(figsize=(10,6))\n",
        "    if zfunc:\n",
        "        p0 = clf.predict_proba(np.c_[xx.ravel(), yy.ravel()])[:, 0]\n",
        "        p1 = clf.predict_proba(np.c_[xx.ravel(), yy.ravel()])[:, 1]\n",
        "        Z=zfunc(p0, p1)\n",
        "    else:\n",
        "        Z = clf.predict(np.c_[xx.ravel(), yy.ravel()])\n",
        "    ZZ = Z.reshape(xx.shape)\n",
        "    if mesh:\n",
        "        plt.pcolormesh(xx, yy, ZZ, cmap=cmap_light, alpha=alpha, axes=ax)\n",
        "    if predicted:\n",
        "        showtr = clf.predict(Xtr)\n",
        "        showte = clf.predict(Xte)\n",
        "    else:\n",
        "        showtr = ytr\n",
        "        showte = yte\n",
        "    ax.scatter(Xtr[:, 0], Xtr[:, 1], c=showtr-1, cmap=cmap_bold, s=psize, alpha=alpha,edgecolor=\"k\")\n",
        "    # and testing points\n",
        "    ax.scatter(Xte[:, 0], Xte[:, 1], c=showte-1, cmap=cmap_bold, alpha=alpha, marker=\"s\", s=psize+10)\n",
        "    ax.set_xlim(xx.min(), xx.max())\n",
        "    ax.set_ylim(yy.min(), yy.max())\n",
        "    return ax,xx,yy"
      ],
      "execution_count": 0,
      "outputs": []
    },
    {
      "cell_type": "code",
      "metadata": {
        "id": "nFtMT3vv9aHQ",
        "colab_type": "code",
        "colab": {}
      },
      "source": [
        "def points_plot_prob(ax, Xtr, Xte, ytr, yte, clf, colorscale=cmap_light, cdiscrete=cmap_bold, ccolor=cm, psize=10, alpha=0.1):\n",
        "    ax,xx,yy = points_plot(ax, Xtr, Xte, ytr, yte, clf, mesh=False, colorscale=colorscale, cdiscrete=cdiscrete, psize=psize, alpha=alpha, predicted=True) \n",
        "    Z = clf.predict_proba(np.c_[xx.ravel(), yy.ravel()])[:, 1]\n",
        "    Z = Z.reshape(xx.shape)\n",
        "    plt.contourf(xx, yy, Z, cmap=ccolor, alpha=.2, axes=ax)\n",
        "    cs2 = plt.contour(xx, yy, Z, cmap=ccolor, alpha=.6, axes=ax)\n",
        "    plt.clabel(cs2, fmt = '%2.1f', colors = 'k', fontsize=14, axes=ax)\n",
        "    return ax"
      ],
      "execution_count": 0,
      "outputs": []
    },
    {
      "cell_type": "markdown",
      "metadata": {
        "id": "J5I9JRpP9fBW",
        "colab_type": "text"
      },
      "source": [
        "# Using sklearn: The heights and weights example"
      ]
    },
    {
      "cell_type": "code",
      "metadata": {
        "id": "FPur0JAD-GLL",
        "colab_type": "code",
        "outputId": "40deb57c-5019-4103-9ffd-c9df08e7ef0f",
        "colab": {
          "base_uri": "https://localhost:8080/",
          "height": 195
        }
      },
      "source": [
        "dflog=pd.read_csv(\"01_heights_weights_gender.csv\")\n",
        "dflog.head()"
      ],
      "execution_count": 13,
      "outputs": [
        {
          "output_type": "execute_result",
          "data": {
            "text/html": [
              "<div>\n",
              "<style scoped>\n",
              "    .dataframe tbody tr th:only-of-type {\n",
              "        vertical-align: middle;\n",
              "    }\n",
              "\n",
              "    .dataframe tbody tr th {\n",
              "        vertical-align: top;\n",
              "    }\n",
              "\n",
              "    .dataframe thead th {\n",
              "        text-align: right;\n",
              "    }\n",
              "</style>\n",
              "<table border=\"1\" class=\"dataframe\">\n",
              "  <thead>\n",
              "    <tr style=\"text-align: right;\">\n",
              "      <th></th>\n",
              "      <th>Gender</th>\n",
              "      <th>Height</th>\n",
              "      <th>Weight</th>\n",
              "    </tr>\n",
              "  </thead>\n",
              "  <tbody>\n",
              "    <tr>\n",
              "      <th>0</th>\n",
              "      <td>Male</td>\n",
              "      <td>73.847017</td>\n",
              "      <td>241.893563</td>\n",
              "    </tr>\n",
              "    <tr>\n",
              "      <th>1</th>\n",
              "      <td>Male</td>\n",
              "      <td>68.781904</td>\n",
              "      <td>162.310473</td>\n",
              "    </tr>\n",
              "    <tr>\n",
              "      <th>2</th>\n",
              "      <td>Male</td>\n",
              "      <td>74.110105</td>\n",
              "      <td>212.740856</td>\n",
              "    </tr>\n",
              "    <tr>\n",
              "      <th>3</th>\n",
              "      <td>Male</td>\n",
              "      <td>71.730978</td>\n",
              "      <td>220.042470</td>\n",
              "    </tr>\n",
              "    <tr>\n",
              "      <th>4</th>\n",
              "      <td>Male</td>\n",
              "      <td>69.881796</td>\n",
              "      <td>206.349801</td>\n",
              "    </tr>\n",
              "  </tbody>\n",
              "</table>\n",
              "</div>"
            ],
            "text/plain": [
              "  Gender     Height      Weight\n",
              "0   Male  73.847017  241.893563\n",
              "1   Male  68.781904  162.310473\n",
              "2   Male  74.110105  212.740856\n",
              "3   Male  71.730978  220.042470\n",
              "4   Male  69.881796  206.349801"
            ]
          },
          "metadata": {
            "tags": []
          },
          "execution_count": 13
        }
      ]
    },
    {
      "cell_type": "code",
      "metadata": {
        "id": "0jv42IIa-IxS",
        "colab_type": "code",
        "outputId": "c739ac74-66ec-45a1-faff-7f4df1d3bea4",
        "colab": {
          "base_uri": "https://localhost:8080/",
          "height": 313
        }
      },
      "source": [
        "plt.scatter(dflog.Weight, dflog.Height, c=[cm_bright.colors[i] for i in dflog.Gender==\"Male\"], alpha=0.08)"
      ],
      "execution_count": 14,
      "outputs": [
        {
          "output_type": "execute_result",
          "data": {
            "text/plain": [
              "<matplotlib.collections.PathCollection at 0x7f9cf2ca1128>"
            ]
          },
          "metadata": {
            "tags": []
          },
          "execution_count": 14
        },
        {
          "output_type": "display_data",
          "data": {
            "image/png": "[encoded data removed]",
            "text/plain": [
              "<Figure size 432x288 with 1 Axes>"
            ]
          },
          "metadata": {
            "tags": []
          }
        }
      ]
    },
    {
      "cell_type": "code",
      "metadata": {
        "id": "8mjgGtHj-OBK",
        "colab_type": "code",
        "colab": {}
      },
      "source": [
        "from sklearn.model_selection import KFold\n",
        "from sklearn.metrics import accuracy_score\n",
        "def cv_score(clf, x, y, score_func=accuracy_score):\n",
        "    result = 0\n",
        "    nfold = 5\n",
        "    fold = KFold(nfold, shuffle=False, random_state=None)\n",
        "    for train, test in fold.split(y): # split data into train/test groups, 5 times\n",
        "        clf.fit(x[train], y[train]) # fit\n",
        "        result += score_func(clf.predict(x[test]), y[test]) # evaluate score function on held-out data\n",
        "    return result / nfold # average"
      ],
      "execution_count": 0,
      "outputs": []
    },
    {
      "cell_type": "code",
      "metadata": {
        "id": "oFS_YpiZ-RmZ",
        "colab_type": "code",
        "colab": {}
      },
      "source": [
        "from sklearn.model_selection import train_test_split\n",
        "Xlr, Xtestlr, ylr, ytestlr = train_test_split(dflog[['Height','Weight']].values, (dflog.Gender==\"Male\").values)"
      ],
      "execution_count": 0,
      "outputs": []
    },
    {
      "cell_type": "code",
      "metadata": {
        "id": "w3-zud8B-Tww",
        "colab_type": "code",
        "outputId": "6bbf6979-11b9-411e-952f-6599660fc6ef",
        "colab": {
          "base_uri": "https://localhost:8080/",
          "height": 894
        }
      },
      "source": [
        "#the grid of parameters to search over\n",
        "Cs = [0.001, 0.1, 1, 10, 100]\n",
        "from sklearn.linear_model import LogisticRegression\n",
        "max_score = 0\n",
        "\n",
        "for C in Cs:\n",
        "        clf = LogisticRegression(C=C)\n",
        "        score = cv_score(clf, Xlr, ylr)\n",
        "\n",
        "        if score > max_score:\n",
        "            max_score = score\n",
        "            best_C =C\n",
        "print(max_score, best_C)"
      ],
      "execution_count": 17,
      "outputs": [
        {
          "output_type": "stream",
          "text": [
            "0.9169333333333334 0.001\n"
          ],
          "name": "stdout"
        },
        {
          "output_type": "stream",
          "text": [
            "/usr/local/lib/python3.6/dist-packages/sklearn/linear_model/logistic.py:432: FutureWarning: Default solver will be changed to 'lbfgs' in 0.22. Specify a solver to silence this warning.\n",
            "  FutureWarning)\n",
            "/usr/local/lib/python3.6/dist-packages/sklearn/linear_model/logistic.py:432: FutureWarning: Default solver will be changed to 'lbfgs' in 0.22. Specify a solver to silence this warning.\n",
            "  FutureWarning)\n",
            "/usr/local/lib/python3.6/dist-packages/sklearn/linear_model/logistic.py:432: FutureWarning: Default solver will be changed to 'lbfgs' in 0.22. Specify a solver to silence this warning.\n",
            "  FutureWarning)\n",
            "/usr/local/lib/python3.6/dist-packages/sklearn/linear_model/logistic.py:432: FutureWarning: Default solver will be changed to 'lbfgs' in 0.22. Specify a solver to silence this warning.\n",
            "  FutureWarning)\n",
            "/usr/local/lib/python3.6/dist-packages/sklearn/linear_model/logistic.py:432: FutureWarning: Default solver will be changed to 'lbfgs' in 0.22. Specify a solver to silence this warning.\n",
            "  FutureWarning)\n",
            "/usr/local/lib/python3.6/dist-packages/sklearn/linear_model/logistic.py:432: FutureWarning: Default solver will be changed to 'lbfgs' in 0.22. Specify a solver to silence this warning.\n",
            "  FutureWarning)\n",
            "/usr/local/lib/python3.6/dist-packages/sklearn/linear_model/logistic.py:432: FutureWarning: Default solver will be changed to 'lbfgs' in 0.22. Specify a solver to silence this warning.\n",
            "  FutureWarning)\n",
            "/usr/local/lib/python3.6/dist-packages/sklearn/linear_model/logistic.py:432: FutureWarning: Default solver will be changed to 'lbfgs' in 0.22. Specify a solver to silence this warning.\n",
            "  FutureWarning)\n",
            "/usr/local/lib/python3.6/dist-packages/sklearn/linear_model/logistic.py:432: FutureWarning: Default solver will be changed to 'lbfgs' in 0.22. Specify a solver to silence this warning.\n",
            "  FutureWarning)\n",
            "/usr/local/lib/python3.6/dist-packages/sklearn/linear_model/logistic.py:432: FutureWarning: Default solver will be changed to 'lbfgs' in 0.22. Specify a solver to silence this warning.\n",
            "  FutureWarning)\n",
            "/usr/local/lib/python3.6/dist-packages/sklearn/linear_model/logistic.py:432: FutureWarning: Default solver will be changed to 'lbfgs' in 0.22. Specify a solver to silence this warning.\n",
            "  FutureWarning)\n",
            "/usr/local/lib/python3.6/dist-packages/sklearn/linear_model/logistic.py:432: FutureWarning: Default solver will be changed to 'lbfgs' in 0.22. Specify a solver to silence this warning.\n",
            "  FutureWarning)\n",
            "/usr/local/lib/python3.6/dist-packages/sklearn/linear_model/logistic.py:432: FutureWarning: Default solver will be changed to 'lbfgs' in 0.22. Specify a solver to silence this warning.\n",
            "  FutureWarning)\n",
            "/usr/local/lib/python3.6/dist-packages/sklearn/linear_model/logistic.py:432: FutureWarning: Default solver will be changed to 'lbfgs' in 0.22. Specify a solver to silence this warning.\n",
            "  FutureWarning)\n",
            "/usr/local/lib/python3.6/dist-packages/sklearn/linear_model/logistic.py:432: FutureWarning: Default solver will be changed to 'lbfgs' in 0.22. Specify a solver to silence this warning.\n",
            "  FutureWarning)\n",
            "/usr/local/lib/python3.6/dist-packages/sklearn/linear_model/logistic.py:432: FutureWarning: Default solver will be changed to 'lbfgs' in 0.22. Specify a solver to silence this warning.\n",
            "  FutureWarning)\n",
            "/usr/local/lib/python3.6/dist-packages/sklearn/linear_model/logistic.py:432: FutureWarning: Default solver will be changed to 'lbfgs' in 0.22. Specify a solver to silence this warning.\n",
            "  FutureWarning)\n",
            "/usr/local/lib/python3.6/dist-packages/sklearn/linear_model/logistic.py:432: FutureWarning: Default solver will be changed to 'lbfgs' in 0.22. Specify a solver to silence this warning.\n",
            "  FutureWarning)\n",
            "/usr/local/lib/python3.6/dist-packages/sklearn/linear_model/logistic.py:432: FutureWarning: Default solver will be changed to 'lbfgs' in 0.22. Specify a solver to silence this warning.\n",
            "  FutureWarning)\n",
            "/usr/local/lib/python3.6/dist-packages/sklearn/linear_model/logistic.py:432: FutureWarning: Default solver will be changed to 'lbfgs' in 0.22. Specify a solver to silence this warning.\n",
            "  FutureWarning)\n",
            "/usr/local/lib/python3.6/dist-packages/sklearn/linear_model/logistic.py:432: FutureWarning: Default solver will be changed to 'lbfgs' in 0.22. Specify a solver to silence this warning.\n",
            "  FutureWarning)\n",
            "/usr/local/lib/python3.6/dist-packages/sklearn/linear_model/logistic.py:432: FutureWarning: Default solver will be changed to 'lbfgs' in 0.22. Specify a solver to silence this warning.\n",
            "  FutureWarning)\n",
            "/usr/local/lib/python3.6/dist-packages/sklearn/linear_model/logistic.py:432: FutureWarning: Default solver will be changed to 'lbfgs' in 0.22. Specify a solver to silence this warning.\n",
            "  FutureWarning)\n",
            "/usr/local/lib/python3.6/dist-packages/sklearn/linear_model/logistic.py:432: FutureWarning: Default solver will be changed to 'lbfgs' in 0.22. Specify a solver to silence this warning.\n",
            "  FutureWarning)\n",
            "/usr/local/lib/python3.6/dist-packages/sklearn/linear_model/logistic.py:432: FutureWarning: Default solver will be changed to 'lbfgs' in 0.22. Specify a solver to silence this warning.\n",
            "  FutureWarning)\n"
          ],
          "name": "stderr"
        }
      ]
    },
    {
      "cell_type": "code",
      "metadata": {
        "id": "IGbH5AJe-YZy",
        "colab_type": "code",
        "outputId": "ceff088b-ad5b-461e-b786-509cb6836695",
        "colab": {
          "base_uri": "https://localhost:8080/",
          "height": 87
        }
      },
      "source": [
        "clfl=LogisticRegression(C=best_C)\n",
        "clfl.fit(Xlr, ylr)\n",
        "ypred=clfl.predict(Xtestlr)\n",
        "accuracy_score(ypred, ytestlr)"
      ],
      "execution_count": 18,
      "outputs": [
        {
          "output_type": "stream",
          "text": [
            "/usr/local/lib/python3.6/dist-packages/sklearn/linear_model/logistic.py:432: FutureWarning: Default solver will be changed to 'lbfgs' in 0.22. Specify a solver to silence this warning.\n",
            "  FutureWarning)\n"
          ],
          "name": "stderr"
        },
        {
          "output_type": "execute_result",
          "data": {
            "text/plain": [
              "0.926"
            ]
          },
          "metadata": {
            "tags": []
          },
          "execution_count": 18
        }
      ]
    },
    {
      "cell_type": "code",
      "metadata": {
        "id": "1IGe_VLC-cNi",
        "colab_type": "code",
        "outputId": "72c96911-e69f-4dff-8194-8ee75349ea67",
        "colab": {
          "base_uri": "https://localhost:8080/",
          "height": 1000
        }
      },
      "source": [
        "from sklearn.model_selection import GridSearchCV\n",
        "clfl2=LogisticRegression()\n",
        "parameters = {\"C\": [0.0001, 0.001, 0.1, 1, 10, 100]}\n",
        "fitmodel = GridSearchCV(clfl2, param_grid=parameters, cv=5, scoring=\"accuracy\")\n",
        "fitmodel.fit(Xlr, ylr)\n",
        "fitmodel.best_estimator_, fitmodel.best_params_, fitmodel.best_score_, fitmodel.cv_results_"
      ],
      "execution_count": 19,
      "outputs": [
        {
          "output_type": "stream",
          "text": [
            "/usr/local/lib/python3.6/dist-packages/sklearn/linear_model/logistic.py:432: FutureWarning: Default solver will be changed to 'lbfgs' in 0.22. Specify a solver to silence this warning.\n",
            "  FutureWarning)\n",
            "/usr/local/lib/python3.6/dist-packages/sklearn/linear_model/logistic.py:432: FutureWarning: Default solver will be changed to 'lbfgs' in 0.22. Specify a solver to silence this warning.\n",
            "  FutureWarning)\n",
            "/usr/local/lib/python3.6/dist-packages/sklearn/linear_model/logistic.py:432: FutureWarning: Default solver will be changed to 'lbfgs' in 0.22. Specify a solver to silence this warning.\n",
            "  FutureWarning)\n",
            "/usr/local/lib/python3.6/dist-packages/sklearn/linear_model/logistic.py:432: FutureWarning: Default solver will be changed to 'lbfgs' in 0.22. Specify a solver to silence this warning.\n",
            "  FutureWarning)\n",
            "/usr/local/lib/python3.6/dist-packages/sklearn/linear_model/logistic.py:432: FutureWarning: Default solver will be changed to 'lbfgs' in 0.22. Specify a solver to silence this warning.\n",
            "  FutureWarning)\n",
            "/usr/local/lib/python3.6/dist-packages/sklearn/linear_model/logistic.py:432: FutureWarning: Default solver will be changed to 'lbfgs' in 0.22. Specify a solver to silence this warning.\n",
            "  FutureWarning)\n",
            "/usr/local/lib/python3.6/dist-packages/sklearn/linear_model/logistic.py:432: FutureWarning: Default solver will be changed to 'lbfgs' in 0.22. Specify a solver to silence this warning.\n",
            "  FutureWarning)\n",
            "/usr/local/lib/python3.6/dist-packages/sklearn/linear_model/logistic.py:432: FutureWarning: Default solver will be changed to 'lbfgs' in 0.22. Specify a solver to silence this warning.\n",
            "  FutureWarning)\n",
            "/usr/local/lib/python3.6/dist-packages/sklearn/linear_model/logistic.py:432: FutureWarning: Default solver will be changed to 'lbfgs' in 0.22. Specify a solver to silence this warning.\n",
            "  FutureWarning)\n",
            "/usr/local/lib/python3.6/dist-packages/sklearn/linear_model/logistic.py:432: FutureWarning: Default solver will be changed to 'lbfgs' in 0.22. Specify a solver to silence this warning.\n",
            "  FutureWarning)\n",
            "/usr/local/lib/python3.6/dist-packages/sklearn/linear_model/logistic.py:432: FutureWarning: Default solver will be changed to 'lbfgs' in 0.22. Specify a solver to silence this warning.\n",
            "  FutureWarning)\n",
            "/usr/local/lib/python3.6/dist-packages/sklearn/linear_model/logistic.py:432: FutureWarning: Default solver will be changed to 'lbfgs' in 0.22. Specify a solver to silence this warning.\n",
            "  FutureWarning)\n",
            "/usr/local/lib/python3.6/dist-packages/sklearn/linear_model/logistic.py:432: FutureWarning: Default solver will be changed to 'lbfgs' in 0.22. Specify a solver to silence this warning.\n",
            "  FutureWarning)\n",
            "/usr/local/lib/python3.6/dist-packages/sklearn/linear_model/logistic.py:432: FutureWarning: Default solver will be changed to 'lbfgs' in 0.22. Specify a solver to silence this warning.\n",
            "  FutureWarning)\n",
            "/usr/local/lib/python3.6/dist-packages/sklearn/linear_model/logistic.py:432: FutureWarning: Default solver will be changed to 'lbfgs' in 0.22. Specify a solver to silence this warning.\n",
            "  FutureWarning)\n",
            "/usr/local/lib/python3.6/dist-packages/sklearn/linear_model/logistic.py:432: FutureWarning: Default solver will be changed to 'lbfgs' in 0.22. Specify a solver to silence this warning.\n",
            "  FutureWarning)\n",
            "/usr/local/lib/python3.6/dist-packages/sklearn/linear_model/logistic.py:432: FutureWarning: Default solver will be changed to 'lbfgs' in 0.22. Specify a solver to silence this warning.\n",
            "  FutureWarning)\n",
            "/usr/local/lib/python3.6/dist-packages/sklearn/linear_model/logistic.py:432: FutureWarning: Default solver will be changed to 'lbfgs' in 0.22. Specify a solver to silence this warning.\n",
            "  FutureWarning)\n",
            "/usr/local/lib/python3.6/dist-packages/sklearn/linear_model/logistic.py:432: FutureWarning: Default solver will be changed to 'lbfgs' in 0.22. Specify a solver to silence this warning.\n",
            "  FutureWarning)\n",
            "/usr/local/lib/python3.6/dist-packages/sklearn/linear_model/logistic.py:432: FutureWarning: Default solver will be changed to 'lbfgs' in 0.22. Specify a solver to silence this warning.\n",
            "  FutureWarning)\n",
            "/usr/local/lib/python3.6/dist-packages/sklearn/linear_model/logistic.py:432: FutureWarning: Default solver will be changed to 'lbfgs' in 0.22. Specify a solver to silence this warning.\n",
            "  FutureWarning)\n",
            "/usr/local/lib/python3.6/dist-packages/sklearn/linear_model/logistic.py:432: FutureWarning: Default solver will be changed to 'lbfgs' in 0.22. Specify a solver to silence this warning.\n",
            "  FutureWarning)\n",
            "/usr/local/lib/python3.6/dist-packages/sklearn/linear_model/logistic.py:432: FutureWarning: Default solver will be changed to 'lbfgs' in 0.22. Specify a solver to silence this warning.\n",
            "  FutureWarning)\n",
            "/usr/local/lib/python3.6/dist-packages/sklearn/linear_model/logistic.py:432: FutureWarning: Default solver will be changed to 'lbfgs' in 0.22. Specify a solver to silence this warning.\n",
            "  FutureWarning)\n",
            "/usr/local/lib/python3.6/dist-packages/sklearn/linear_model/logistic.py:432: FutureWarning: Default solver will be changed to 'lbfgs' in 0.22. Specify a solver to silence this warning.\n",
            "  FutureWarning)\n",
            "/usr/local/lib/python3.6/dist-packages/sklearn/linear_model/logistic.py:432: FutureWarning: Default solver will be changed to 'lbfgs' in 0.22. Specify a solver to silence this warning.\n",
            "  FutureWarning)\n",
            "/usr/local/lib/python3.6/dist-packages/sklearn/linear_model/logistic.py:432: FutureWarning: Default solver will be changed to 'lbfgs' in 0.22. Specify a solver to silence this warning.\n",
            "  FutureWarning)\n",
            "/usr/local/lib/python3.6/dist-packages/sklearn/linear_model/logistic.py:432: FutureWarning: Default solver will be changed to 'lbfgs' in 0.22. Specify a solver to silence this warning.\n",
            "  FutureWarning)\n",
            "/usr/local/lib/python3.6/dist-packages/sklearn/linear_model/logistic.py:432: FutureWarning: Default solver will be changed to 'lbfgs' in 0.22. Specify a solver to silence this warning.\n",
            "  FutureWarning)\n",
            "/usr/local/lib/python3.6/dist-packages/sklearn/linear_model/logistic.py:432: FutureWarning: Default solver will be changed to 'lbfgs' in 0.22. Specify a solver to silence this warning.\n",
            "  FutureWarning)\n",
            "/usr/local/lib/python3.6/dist-packages/sklearn/linear_model/logistic.py:432: FutureWarning: Default solver will be changed to 'lbfgs' in 0.22. Specify a solver to silence this warning.\n",
            "  FutureWarning)\n"
          ],
          "name": "stderr"
        },
        {
          "output_type": "execute_result",
          "data": {
            "text/plain": [
              "(LogisticRegression(C=0.001, class_weight=None, dual=False, fit_intercept=True,\n",
              "                    intercept_scaling=1, l1_ratio=None, max_iter=100,\n",
              "                    multi_class='warn', n_jobs=None, penalty='l2',\n",
              "                    random_state=None, solver='warn', tol=0.0001, verbose=0,\n",
              "                    warm_start=False),\n",
              " {'C': 0.001},\n",
              " 0.9170666666666667,\n",
              " {'mean_fit_time': array([0.0051137 , 0.00640879, 0.00639415, 0.00648971, 0.0061377 ,\n",
              "         0.00659394]),\n",
              "  'mean_score_time': array([0.00034142, 0.00035138, 0.00040321, 0.00032973, 0.0003305 ,\n",
              "         0.00051117]),\n",
              "  'mean_test_score': array([0.91506667, 0.91706667, 0.91693333, 0.91706667, 0.91706667,\n",
              "         0.91706667]),\n",
              "  'param_C': masked_array(data=[0.0001, 0.001, 0.1, 1, 10, 100],\n",
              "               mask=[False, False, False, False, False, False],\n",
              "         fill_value='?',\n",
              "              dtype=object),\n",
              "  'params': [{'C': 0.0001},\n",
              "   {'C': 0.001},\n",
              "   {'C': 0.1},\n",
              "   {'C': 1},\n",
              "   {'C': 10},\n",
              "   {'C': 100}],\n",
              "  'rank_test_score': array([6, 1, 5, 1, 1, 1], dtype=int32),\n",
              "  'split0_test_score': array([0.9140573 , 0.91472352, 0.91605596, 0.91605596, 0.91605596,\n",
              "         0.91605596]),\n",
              "  'split1_test_score': array([0.912     , 0.91466667, 0.91466667, 0.91466667, 0.91466667,\n",
              "         0.91466667]),\n",
              "  'split2_test_score': array([0.90333333, 0.90466667, 0.90333333, 0.90333333, 0.90333333,\n",
              "         0.90333333]),\n",
              "  'split3_test_score': array([0.92466667, 0.92466667, 0.924     , 0.924     , 0.924     ,\n",
              "         0.924     ]),\n",
              "  'split4_test_score': array([0.92128085, 0.92661775, 0.92661775, 0.92728486, 0.92728486,\n",
              "         0.92728486]),\n",
              "  'std_fit_time': array([0.00024925, 0.00071199, 0.00040357, 0.00050524, 0.00017206,\n",
              "         0.00018273]),\n",
              "  'std_score_time': array([1.73852761e-05, 2.24262553e-05, 7.09831652e-05, 1.45845148e-05,\n",
              "         1.18878860e-05, 1.97384552e-04]),\n",
              "  'std_test_score': array([0.00746787, 0.00792384, 0.00817962, 0.00834026, 0.00834026,\n",
              "         0.00834026])})"
            ]
          },
          "metadata": {
            "tags": []
          },
          "execution_count": 19
        }
      ]
    },
    {
      "cell_type": "code",
      "metadata": {
        "id": "BPoOOhSo-f56",
        "colab_type": "code",
        "outputId": "9c0d571f-2cae-4842-8f75-b4011b0a6947",
        "colab": {
          "base_uri": "https://localhost:8080/",
          "height": 87
        }
      },
      "source": [
        "clfl2=LogisticRegression(C=fitmodel.best_params_['C'])\n",
        "clfl2.fit(Xlr, ylr)\n",
        "ypred2=clfl2.predict(Xtestlr)\n",
        "accuracy_score(ypred2, ytestlr)"
      ],
      "execution_count": 20,
      "outputs": [
        {
          "output_type": "stream",
          "text": [
            "/usr/local/lib/python3.6/dist-packages/sklearn/linear_model/logistic.py:432: FutureWarning: Default solver will be changed to 'lbfgs' in 0.22. Specify a solver to silence this warning.\n",
            "  FutureWarning)\n"
          ],
          "name": "stderr"
        },
        {
          "output_type": "execute_result",
          "data": {
            "text/plain": [
              "0.926"
            ]
          },
          "metadata": {
            "tags": []
          },
          "execution_count": 20
        }
      ]
    },
    {
      "cell_type": "markdown",
      "metadata": {
        "id": "-auaPfin-kaZ",
        "colab_type": "text"
      },
      "source": [
        "# How to Classify"
      ]
    },
    {
      "cell_type": "markdown",
      "metadata": {
        "id": "1NArGshk-m9S",
        "colab_type": "text"
      },
      "source": [
        "# ATM Camera Example"
      ]
    },
    {
      "cell_type": "code",
      "metadata": {
        "id": "6sXwUpoD-inr",
        "colab_type": "code",
        "outputId": "e6deb98c-d070-45ee-9314-7ee82f5b17df",
        "colab": {
          "base_uri": "https://localhost:8080/",
          "height": 121
        }
      },
      "source": [
        "from google.colab import drive\n",
        "drive.mount('/content/drive')"
      ],
      "execution_count": 21,
      "outputs": [
        {
          "output_type": "stream",
          "text": [
            "Go to this URL in a browser: https://accounts.google.com/o/oauth2/auth?client_id=947318989803-6bn6qk8qdgf4n4g3pfee6491hc0brc4i.apps.googleusercontent.com&redirect_uri=urn%3Aietf%3Awg%3Aoauth%3A2.0%3Aoob&scope=email%20https%3A%2F%2Fwww.googleapis.com%2Fauth%2Fdocs.test%20https%3A%2F%2Fwww.googleapis.com%2Fauth%2Fdrive%20https%3A%2F%2Fwww.googleapis.com%2Fauth%2Fdrive.photos.readonly%20https%3A%2F%2Fwww.googleapis.com%2Fauth%2Fpeopleapi.readonly&response_type=code\n",
            "\n",
            "Enter your authorization code:\n",
            "··········\n",
            "Mounted at /content/drive\n"
          ],
          "name": "stdout"
        }
      ]
    },
    {
      "cell_type": "code",
      "metadata": {
        "id": "XiVTVo85_9wX",
        "colab_type": "code",
        "outputId": "3e7ce5fb-0be1-4650-8d1b-5259992ce2c6",
        "colab": {
          "base_uri": "https://localhost:8080/",
          "height": 1000
        }
      },
      "source": [
        "!ls \"/content/drive/My Drive\""
      ],
      "execution_count": 22,
      "outputs": [
        {
          "output_type": "stream",
          "text": [
            "'00 ENB Daily Template.docx'\n",
            "'00 ENB Daily Template.gdoc'\n",
            "'00 ENB Rubric and Peer Review Form - Day 2.gsheet'\n",
            "'00 ENB Rubric and Peer Review Form - Day 4.gsheet'\n",
            "'00 ENB Rubric and Peer Review Form - Day 5.xlsx'\n",
            "'00 ENB Rubric and Peer Review Form - Day 6.gsheet'\n",
            "'00 ENB Rubric and Peer Review Form - Generic (1).gsheet'\n",
            "'00 ENB Rubric and Peer Review Form - Generic.gsheet'\n",
            "'00 ENB Rubric and Peer Review Form - Generic.xlsx'\n",
            "'00 ENB Weekly Template.docx'\n",
            "'01 02.gdoc'\n",
            "'04 02.gdoc'\n",
            "'07 02.gdoc'\n",
            " 11_20186082.csv\n",
            " 11_20186082.gsheet\n",
            " 12_20186082.csv\n",
            " 12_20186082.gsheet\n",
            " 16072018.gdoc\n",
            "'2018501082 (10).gdoc'\n",
            "'2018501082 (11).gdoc'\n",
            "'2018501082 (12).gdoc'\n",
            "'2018501082 (13).gdoc'\n",
            "'2018501082 (14).gdoc'\n",
            "'2018501082 (15).gdoc'\n",
            "'2018501082 (1).gdoc'\n",
            "'2018501082 (1).gsheet'\n",
            "'2018501082 (2).gdoc'\n",
            "'2018501082 (3).gdoc'\n",
            "'2018501082 (4).gdoc'\n",
            "'2018501082 (5).gdoc'\n",
            "'2018501082 (6).gdoc'\n",
            "'2018501082 (7).gdoc'\n",
            "'2018501082 (8).gdoc'\n",
            "'2018501082 (9).gdoc'\n",
            " 2018501082.gdoc\n",
            " 2018501082.gsheet\n",
            " 2018501082-Ramu.jpg\n",
            " 2018501082_SEF_2019\n",
            "'2018501082 ss.gdoc'\n",
            " 2018501082_ss.gdoc\n",
            "'2018501082_survey form.gsheet'\n",
            "'20186008_01 English and Metric Units.gsheet'\n",
            "'20186008_01 English and Metric Units.xlsx'\n",
            "'20186008_Activity - 8.gsheet'\n",
            "'20186008_Activity - 8.xlsx'\n",
            "'20186008_ENB - Day - 10.docx'\n",
            " 20186041-ppt.pptx\n",
            "'20186082_09 10 2018.gdoc'\n",
            "'20186082 (1).gslides'\n",
            " 20186082_DAY_10_SS.gdoc\n",
            " 20186082_DAY_11_SS.gdoc\n",
            " 20186082_day_12_ss.gdoc\n",
            " 20186082_day_13_ss.gdoc\n",
            "'20186082_day _20_ss.gdoc'\n",
            " 20186082_DAY_23_ss.gdoc\n",
            " 20186082_day-24_ss.gdoc\n",
            " 20186082_day_8_ss.gdoc\n",
            " 20186082.gslides\n",
            "'20186082_mid2_assignment 5.gdoc'\n",
            " 20186082_mid2_assignment6.gdoc\n",
            "'20186082_mid2_assignment 7.gdoc'\n",
            " 20186082_skit.gdoc\n",
            " 20186082_ss_11-09-2018.gdoc\n",
            "'20186082_ss (1).gdoc'\n",
            "'20186082_ss (2).gdoc'\n",
            "'20186082_ss (3).gdoc'\n",
            " 20186082_ss_day_7.gdoc\n",
            " 20186082_ss.gdoc\n",
            " 20186082_ss_tasks.gdoc\n",
            " 20186082_task1_ss.gdoc\n",
            " 20186082_task-2_ss.gdoc\n",
            " 20186082_task-3_ss.gdoc\n",
            " 20news-19997.tar\n",
            "'29 01 2019.gdoc'\n",
            " 6082_MP.zip\n",
            " a2.gdoc\n",
            " a3.gdoc\n",
            "'activity 4.gdoc'\n",
            "'ADS 1'\n",
            "'Advanced power searching.gdoc'\n",
            " AI\n",
            "'Albert Einstein:Biography.gdoc'\n",
            "'Albert Einstein:Biography screenshots.gdoc'\n",
            " angular.gdoc\n",
            " anonymous.gdoc\n",
            " armstrong.gdoc\n",
            " assignment_1_20186082.gdoc\n",
            "'Assignment 5 20186082.gdoc'\n",
            "'assignment 7,20186082.gdoc'\n",
            " Attendance.gsheet\n",
            " audio1.wav\n",
            " audio2.wav\n",
            " audio3.wav\n",
            " audio4.wav\n",
            " audio5.wav\n",
            " audio6.wav\n",
            " Brainstorming.gdoc\n",
            "'Brainstorming screenshots.gdoc'\n",
            " bug.gdoc\n",
            " CameraApp.zip\n",
            " capstone\n",
            "'Capstone Report.gdoc'\n",
            "'Client Meeting-ppt.pptx'\n",
            "'cnf .gdoc'\n",
            " CNF-m5.gdoc\n",
            "'Colab Notebooks'\n",
            "'computational thinking'\n",
            "'Consulting proposal (1).gslides'\n",
            "'Consulting proposal.gslides'\n",
            "'Copy of ENB - Mobile Programming.gdoc'\n",
            "'Creating a WiFi hotspot, and using USB tethering for providing internet connectivity.gdoc'\n",
            "'creating git repository'\n",
            "'Cross Cultural (1).gslides'\n",
            "'Cross Cultural.gslides'\n",
            "'Cross Cultural Sensitivities.gslides'\n",
            "'Cross cultural sensitivity.gslides'\n",
            "'cross cultural sensivity (1).gslides'\n",
            "'cross cultural sensivity.gslides'\n",
            " cs-m10-a1.gdoc\n",
            " cs-m11-a1.gdoc\n",
            " cs-m1.gdoc\n",
            " cs-m2.gdoc\n",
            " cs-m4-a1.gdoc\n",
            " cs-m4-a2.gdoc\n",
            " cs-m5-a1.gdoc\n",
            " cs-m5-a2.gdoc\n",
            " cs-m8-a1.gdoc\n",
            " cs-m9-a1.gdoc\n",
            "'cspp2 marks errors.gdoc'\n",
            " cybrary-cert.pdf\n",
            "'DATA A'\n",
            "'data usage address.gdoc'\n",
            "' Day - 10.gdoc'\n",
            "'DAY - 19_ 20186082_ss.gdoc'\n",
            " Day_21_20186082_ss.gdoc\n",
            " day2share.gdoc\n",
            " day-5-evidence.gdoc\n",
            "'Decision making and branching(conditional statements).gdoc'\n",
            " demonetisation.gslides\n",
            "'difficult questions.gdoc'\n",
            "'Driverless cars-1.gslides'\n",
            " DS\n",
            " educationtodayppt-140122085305-phpapp02.gslides\n",
            " Email.gdoc\n",
            "'ENB-04 Daily Template.docx'\n",
            "'ENB-04 Daily Template.gdoc'\n",
            "'ENB - Mobile Programming-1.gdoc'\n",
            "'ENB - Mobile Programming-2.gdoc'\n",
            "'ENB - Mobile Programming-3.gdoc'\n",
            "'ENB - Mobile Programming-4.gdoc'\n",
            "'ENB - Mobile Programming-5.gdoc'\n",
            "'ENB - Mobile Programming.docx'\n",
            "'Essay (1).gdoc'\n",
            " Essay.gdoc\n",
            "'Event Flyer.gdoc'\n",
            "'Event Logo.gdraw'\n",
            "'Event Plan.gdoc'\n",
            "'Event To do list.gsheet'\n",
            "'evidence day-6.gdoc'\n",
            " factorial.gdoc\n",
            " factors.gdoc\n",
            " final_resume.gdoc\n",
            "'Flash cards.gslides'\n",
            "'gangu bhai.gdoc'\n",
            " gd.gdoc\n",
            "'Getting started.pdf'\n",
            "'GIT HUB LINK.gdoc'\n",
            " greatestno_20186082.gdoc\n",
            "'group discussion.gdoc'\n",
            " hackerrank.gdoc\n",
            "'highest sequence.gdoc'\n",
            "'Housing Options in Hyderabad.gsheet'\n",
            " html.gdoc\n",
            " ICS\n",
            " interview.gdoc\n",
            "'Interview Notes.gdoc'\n",
            "'interview questions.gdoc'\n",
            " javascript.gdoc\n",
            " jjj.gdoc\n",
            "'Job Guide.gslides'\n",
            "'Job Search Plan.gsheet'\n",
            " kali.gdoc\n",
            "'khan '\n",
            "'las_20186082 .gdoc'\n",
            " Life.gslides\n",
            "'Loan Amount Chart.gsheet'\n",
            " Lookbook.gslides\n",
            " m12-a1.gdoc\n",
            " m12-a2.gdoc\n",
            " m12-a3.gdoc\n",
            "'m1 cspp2.gdoc'\n",
            " m3-assignment-1.gdoc\n",
            " m3-assignment-2.gdoc\n",
            " m4,7cspp2.gdoc\n",
            " mail.gdoc\n",
            " mailids.gdoc\n",
            "'Meeting Agenda.gdoc'\n",
            "'Meeting notes (1).gdoc'\n",
            "'Meeting notes.gdoc'\n",
            "'   Mid-course assessment.gdoc'\n",
            " ML\n",
            "'mobile programming'\n",
            "'Mobile Programming _ Project Template (1).gdoc'\n",
            "'Mobile Programming _ Project Template.docx'\n",
            "'Mobile Programming _ Project Template.gdoc'\n",
            "'module1 assignment 2.gdoc'\n",
            "'Module 2 cspp2.gdoc'\n",
            "'MODULE 3.gdoc'\n",
            "'module 4.gdoc'\n",
            "'module 5 ,assignment 5.gdoc'\n",
            "'module 5, assignment 6.gdoc'\n",
            "'module 9.gdoc'\n",
            " MODULE.gdoc\n",
            "'Mood Indigo Music Festival.gsite'\n",
            " moodle2018.gdoc\n",
            " MovieTickets.pdf\n",
            " mp-day-11.gdoc\n",
            "'mp -day-12.gdoc'\n",
            "'mp day-6.gdoc'\n",
            "'mp- day-7.gdoc'\n",
            "'mp day-8.gdoc'\n",
            "'mp day-9.gdoc'\n",
            "'msit password.gdoc'\n",
            " Ng_LMS-masterteam.rar\n",
            " Ng_LMS-master.zip\n",
            "'non rep_20186082.gdoc'\n",
            "'nth reversible prime no 20186082.gdoc'\n",
            "'Offline-Punctuation (1).docx'\n",
            "'Offline-Punctuation (1).gdoc'\n",
            "'Offline-Punctuation-Support (1).docx'\n",
            "'Offline-Punctuation-Support (1).gdoc'\n",
            "'Offline Vocabulary.docx'\n",
            "'Offline Vocabulary.gdoc'\n",
            "'online (15-11-2018).gdoc'\n",
            " Online-Punctuation.gdoc\n",
            "'Online Task - 2 (1).gdoc'\n",
            "'Online Task - 2.docx'\n",
            "'Online Task - 2.gdoc'\n",
            "'Online Vocabulary.docx'\n",
            "'Online Vocabulary.gdoc'\n",
            " palindrome.gdoc\n",
            " pca.gdoc\n",
            " photo\n",
            "'Places to Visit on Bike.gdoc'\n",
            "'   Post-course assessment.gdoc'\n",
            "'PP2017 - WIKI 2017.gdoc'\n",
            "'PP2017 - WIKI 2017.html'\n",
            " Ppt.gdoc\n",
            "'prime 20186082.gdoc'\n",
            "'Print the grade based on the percentages.gdoc'\n",
            "'Product Comparisons.gsheet'\n",
            "'program for Print the grade based on the percentages given.gdoc'\n",
            "'project (1).gslides'\n",
            " project.gslides\n",
            "'Project Management Files'\n",
            " prudhvik.gdoc\n",
            " python.gdoc\n",
            "'qualities of a leader.gslides'\n",
            "'Qualities of a leader(Tashi Phuntsho).gslides'\n",
            " Questionpaper.gdoc\n",
            " Questionpaper.pdf\n",
            "'Ramu Resume.gdoc'\n",
            " readme.gdoc\n",
            " referernce.gdoc\n",
            " resume_2.gdoc\n",
            " Resume_Ramu.gdoc\n",
            " Resume_Sukesh.docx\n",
            "'Rubric - SEF - 1. Integer Calculator (1).gsheet'\n",
            "'Rubric - SEF - 1. Integer Calculator.gsheet'\n",
            "'Rubric - SEF - 2. Double Calculator with Square Root and FSM Error Messages (1).gsheet'\n",
            "'Rubric - SEF - 2. Double Calculator with Square Root and FSM Error Messages (1).xlsx'\n",
            "'Rubric - SEF - 2. Double Calculator with Square Root and FSM Error Messages.gsheet'\n",
            "'Rubric - SEF - 2. Double Calculator with Square Root and FSM Error Messages.xlsx'\n",
            " SafeExamBrowser.zip\n",
            " Saraswathi.gdoc\n",
            " saraswathiummadishetty@msitprogram.net.gdoc\n",
            "'Screenshot (53).png'\n",
            "'Screenshot (646).png'\n",
            "'Securing your smartphone with password.gdoc'\n",
            " SEF.gdoc\n",
            "'Shopping Cart.docx'\n",
            "'Shopping Cart.gdoc'\n",
            "'Software Developer .gdoc'\n",
            "'speaking .gdoc'\n",
            "'Speaking TOEFL 3.zip'\n",
            " ss\n",
            "'ss (1)'\n",
            "'ss (1).gdoc'\n",
            " ss_20186082.gdoc\n",
            " ss_23102018.gdoc\n",
            "'ss_25 12 2018.gdoc'\n",
            "'ss (2).gdoc'\n",
            "'ss30 01 2019.gdoc'\n",
            "'ss (3).gdoc'\n",
            "'ss (4).gdoc'\n",
            " ss.gdoc\n",
            "'ssonline-29 01 2019.gdoc'\n",
            "'Stack class in  javahas following methods.gdoc'\n",
            "'strong password.gdoc'\n",
            " substring.gdoc\n",
            " superstitions.gslides\n",
            "'sync with devices backup .gdoc'\n",
            "'TCP IP (1).gdoc'\n",
            "'TCP IP.gdoc'\n",
            "'TENSE Online.gdoc'\n",
            " Tesla.gslides\n",
            " TEST2.zip\n",
            " the_c_programming_language_2.gdoc\n",
            " toefl3.rar\n",
            "'Toefl 3 Speaking new.zip'\n",
            "'TOEFL5- scorecard.gsheet'\n",
            "'TOEFL5- scorecard.xlsx'\n",
            " toefl.rar\n",
            " TOEFL.zip\n",
            " universities.gdoc\n",
            "'Untitled document (10).gdoc'\n",
            "'Untitled document (11).gdoc'\n",
            "'Untitled document (12).gdoc'\n",
            "'Untitled document (13).gdoc'\n",
            "'Untitled document (14).gdoc'\n",
            "'Untitled document (15).gdoc'\n",
            "'Untitled document (16).gdoc'\n",
            "'Untitled document (1).gdoc'\n",
            "'Untitled document (2).gdoc'\n",
            "'Untitled document (3).gdoc'\n",
            "'Untitled document (4).gdoc'\n",
            "'Untitled document (5).gdoc'\n",
            "'Untitled document (6).gdoc'\n",
            "'Untitled document (7).gdoc'\n",
            "'Untitled document (8).gdoc'\n",
            "'Untitled document (9).gdoc'\n",
            "'Untitled document.gdoc'\n",
            "'Untitled drawing.gdraw'\n",
            "'Untitled form.gform'\n",
            "'Untitled Site (1).gsite'\n",
            "'Untitled Site (2).gsite'\n",
            "'Untitled Site.gsite'\n",
            "'Untitled spreadsheet.gsheet'\n",
            " uplw_20186082.gdoc\n",
            "'Using a mobile app for booking taxi cab such as Ola, Uber.gdoc'\n",
            "'Using a mobile app for food delivery such as Swiggy.gdoc'\n",
            "'Using a mobile payment app such as PayTm.gdoc'\n",
            "'Using play store   market place for installing new apps in your smartphone.gdoc'\n",
            "'vacation Budget to GOA.gsheet'\n",
            "'Virtual Learning Environment(VLE).gslides'\n",
            "'Virtual Learning Environment(VLE).pptx'\n",
            "'web search 1 .gdoc'\n",
            "'What’s the Plan for PPC.gslides'\n",
            "'What’s the Plan for PPC.pptx'\n",
            " wp\n",
            " writing.gdoc\n"
          ],
          "name": "stdout"
        }
      ]
    },
    {
      "cell_type": "code",
      "metadata": {
        "id": "jIGVHDA8ADbG",
        "colab_type": "code",
        "outputId": "ab3e2b1d-1dac-4201-e905-b6205415f10b",
        "colab": {
          "base_uri": "https://localhost:8080/",
          "height": 330
        }
      },
      "source": [
        "data=np.load(\"/content/drive/My Drive/Colab Notebooks/imag.pix.npy\", allow_pickle=True)\n",
        "y=np.load(\"/content/drive/My Drive/Colab Notebooks/imag.lbl.npy\", allow_pickle=True)\n",
        "STANDARD_SIZE = (322, 137)#standardized pixels in image.\n",
        "data.shape, y.shape"
      ],
      "execution_count": 23,
      "outputs": [
        {
          "output_type": "error",
          "ename": "FileNotFoundError",
          "evalue": "ignored",
          "traceback": [
            "\u001b[0;31m---------------------------------------------------------------------------\u001b[0m",
            "\u001b[0;31mFileNotFoundError\u001b[0m                         Traceback (most recent call last)",
            "\u001b[0;32m<ipython-input-23-f393c3b4d183>\u001b[0m in \u001b[0;36m<module>\u001b[0;34m()\u001b[0m\n\u001b[0;32m----> 1\u001b[0;31m \u001b[0mdata\u001b[0m\u001b[0;34m=\u001b[0m\u001b[0mnp\u001b[0m\u001b[0;34m.\u001b[0m\u001b[0mload\u001b[0m\u001b[0;34m(\u001b[0m\u001b[0;34m\"/content/drive/My Drive/Colab Notebooks/imag.pix.npy\"\u001b[0m\u001b[0;34m,\u001b[0m \u001b[0mallow_pickle\u001b[0m\u001b[0;34m=\u001b[0m\u001b[0;32mTrue\u001b[0m\u001b[0;34m)\u001b[0m\u001b[0;34m\u001b[0m\u001b[0;34m\u001b[0m\u001b[0m\n\u001b[0m\u001b[1;32m      2\u001b[0m \u001b[0my\u001b[0m\u001b[0;34m=\u001b[0m\u001b[0mnp\u001b[0m\u001b[0;34m.\u001b[0m\u001b[0mload\u001b[0m\u001b[0;34m(\u001b[0m\u001b[0;34m\"/content/drive/My Drive/Colab Notebooks/imag.lbl.npy\"\u001b[0m\u001b[0;34m,\u001b[0m \u001b[0mallow_pickle\u001b[0m\u001b[0;34m=\u001b[0m\u001b[0;32mTrue\u001b[0m\u001b[0;34m)\u001b[0m\u001b[0;34m\u001b[0m\u001b[0;34m\u001b[0m\u001b[0m\n\u001b[1;32m      3\u001b[0m \u001b[0mSTANDARD_SIZE\u001b[0m \u001b[0;34m=\u001b[0m \u001b[0;34m(\u001b[0m\u001b[0;36m322\u001b[0m\u001b[0;34m,\u001b[0m \u001b[0;36m137\u001b[0m\u001b[0;34m)\u001b[0m\u001b[0;31m#standardized pixels in image.\u001b[0m\u001b[0;34m\u001b[0m\u001b[0;34m\u001b[0m\u001b[0m\n\u001b[1;32m      4\u001b[0m \u001b[0mdata\u001b[0m\u001b[0;34m.\u001b[0m\u001b[0mshape\u001b[0m\u001b[0;34m,\u001b[0m \u001b[0my\u001b[0m\u001b[0;34m.\u001b[0m\u001b[0mshape\u001b[0m\u001b[0;34m\u001b[0m\u001b[0;34m\u001b[0m\u001b[0m\n",
            "\u001b[0;32m/usr/local/lib/python3.6/dist-packages/numpy/lib/npyio.py\u001b[0m in \u001b[0;36mload\u001b[0;34m(file, mmap_mode, allow_pickle, fix_imports, encoding)\u001b[0m\n\u001b[1;32m    420\u001b[0m         \u001b[0mown_fid\u001b[0m \u001b[0;34m=\u001b[0m \u001b[0;32mFalse\u001b[0m\u001b[0;34m\u001b[0m\u001b[0;34m\u001b[0m\u001b[0m\n\u001b[1;32m    421\u001b[0m     \u001b[0;32melse\u001b[0m\u001b[0;34m:\u001b[0m\u001b[0;34m\u001b[0m\u001b[0;34m\u001b[0m\u001b[0m\n\u001b[0;32m--> 422\u001b[0;31m         \u001b[0mfid\u001b[0m \u001b[0;34m=\u001b[0m \u001b[0mopen\u001b[0m\u001b[0;34m(\u001b[0m\u001b[0mos_fspath\u001b[0m\u001b[0;34m(\u001b[0m\u001b[0mfile\u001b[0m\u001b[0;34m)\u001b[0m\u001b[0;34m,\u001b[0m \u001b[0;34m\"rb\"\u001b[0m\u001b[0;34m)\u001b[0m\u001b[0;34m\u001b[0m\u001b[0;34m\u001b[0m\u001b[0m\n\u001b[0m\u001b[1;32m    423\u001b[0m         \u001b[0mown_fid\u001b[0m \u001b[0;34m=\u001b[0m \u001b[0;32mTrue\u001b[0m\u001b[0;34m\u001b[0m\u001b[0;34m\u001b[0m\u001b[0m\n\u001b[1;32m    424\u001b[0m \u001b[0;34m\u001b[0m\u001b[0m\n",
            "\u001b[0;31mFileNotFoundError\u001b[0m: [Errno 2] No such file or directory: '/content/drive/My Drive/Colab Notebooks/imag.pix.npy'"
          ]
        }
      ]
    },
    {
      "cell_type": "code",
      "metadata": {
        "id": "3YVdfoSVAGSW",
        "colab_type": "code",
        "colab": {}
      },
      "source": [
        "def get_image(mat):\n",
        "    size = STANDARD_SIZE[0]*STANDARD_SIZE[1]*3\n",
        "    r,g,b = mat[0:size:3], mat[1:size:3],mat[2:size:3]\n",
        "    rgbArray = np.zeros((STANDARD_SIZE[1],STANDARD_SIZE[0], 3), 'uint8')#3 channels\n",
        "    rgbArray[..., 0] = r.reshape((STANDARD_SIZE[1], STANDARD_SIZE[0]))\n",
        "    rgbArray[..., 1] = b.reshape((STANDARD_SIZE[1], STANDARD_SIZE[0]))\n",
        "    rgbArray[..., 2] = g.reshape((STANDARD_SIZE[1], STANDARD_SIZE[0]))\n",
        "    return rgbArray\n",
        "\n",
        "def display_image(mat):\n",
        "    with sns.axes_style(\"white\"):\n",
        "        plt.imshow(get_image(mat))\n",
        "        plt.xticks([])\n",
        "        plt.yticks([])"
      ],
      "execution_count": 0,
      "outputs": []
    },
    {
      "cell_type": "code",
      "metadata": {
        "id": "NahUogW0AL4W",
        "colab_type": "code",
        "colab": {}
      },
      "source": [
        "display_image(data[5])"
      ],
      "execution_count": 0,
      "outputs": []
    },
    {
      "cell_type": "code",
      "metadata": {
        "id": "tfSMjMbDANHp",
        "colab_type": "code",
        "colab": {}
      },
      "source": [
        "display_image(data[50])"
      ],
      "execution_count": 0,
      "outputs": []
    },
    {
      "cell_type": "markdown",
      "metadata": {
        "id": "vkUlj13aASP9",
        "colab_type": "text"
      },
      "source": [
        "# Feature Engineering"
      ]
    },
    {
      "cell_type": "code",
      "metadata": {
        "id": "FuCKPB3oAQQ1",
        "colab_type": "code",
        "colab": {}
      },
      "source": [
        "from sklearn.decomposition import PCA\n",
        "pca = PCA(n_components=60)\n",
        "X = pca.fit_transform(data)"
      ],
      "execution_count": 0,
      "outputs": []
    },
    {
      "cell_type": "code",
      "metadata": {
        "id": "1TG8Vtz6AWfA",
        "colab_type": "code",
        "colab": {}
      },
      "source": [
        "print(pca.explained_variance_ratio_.sum())"
      ],
      "execution_count": 0,
      "outputs": []
    },
    {
      "cell_type": "code",
      "metadata": {
        "id": "jVmA3AdiAb1s",
        "colab_type": "code",
        "colab": {}
      },
      "source": [
        "pca.explained_variance_ratio_*100"
      ],
      "execution_count": 0,
      "outputs": []
    },
    {
      "cell_type": "code",
      "metadata": {
        "id": "HCeFwfkgAeQl",
        "colab_type": "code",
        "colab": {}
      },
      "source": [
        "df = pd.DataFrame({\"y\":y, \"label\":np.where(y==1, \"check\", \"dollar\")})\n",
        "for i in range(pca.explained_variance_ratio_.shape[0]):\n",
        "    df[\"pc%i\" % (i+1)] = X[:,i]\n",
        "df.head()"
      ],
      "execution_count": 0,
      "outputs": []
    },
    {
      "cell_type": "code",
      "metadata": {
        "id": "3sRIr21rAg0F",
        "colab_type": "code",
        "colab": {}
      },
      "source": [
        "def normit(a):\n",
        "    a=(a - a.min())/(a.max() -a.min())\n",
        "    a=a*256\n",
        "    return np.round(a)\n",
        "def getNC(pc, j):\n",
        "    size=322*137*3\n",
        "    r=pc.components_[j][0:size:3]\n",
        "    g=pc.components_[j][1:size:3]\n",
        "    b=pc.components_[j][2:size:3]\n",
        "    r=normit(r)\n",
        "    g=normit(g)\n",
        "    b=normit(b)\n",
        "    return r,g,b\n",
        "def display_component(pc, j):\n",
        "    r,g,b = getNC(pc,j)\n",
        "    rgbArray = np.zeros((137,322,3), 'uint8')\n",
        "    rgbArray[..., 0] = r.reshape(137,322)\n",
        "    rgbArray[..., 1] = g.reshape(137,322)\n",
        "    rgbArray[..., 2] = b.reshape(137,322)\n",
        "    plt.imshow(rgbArray)\n",
        "    plt.xticks([])\n",
        "    plt.yticks([])"
      ],
      "execution_count": 0,
      "outputs": []
    },
    {
      "cell_type": "code",
      "metadata": {
        "id": "2DdaCGFAAjkP",
        "colab_type": "code",
        "colab": {}
      },
      "source": [
        "display_component(pca,0)"
      ],
      "execution_count": 0,
      "outputs": []
    },
    {
      "cell_type": "code",
      "metadata": {
        "id": "T4wl-H_9Al1d",
        "colab_type": "code",
        "colab": {}
      },
      "source": [
        "display_component(pca,1)"
      ],
      "execution_count": 0,
      "outputs": []
    },
    {
      "cell_type": "code",
      "metadata": {
        "id": "q2aoBnHsAoJt",
        "colab_type": "code",
        "colab": {}
      },
      "source": [
        "colors = [c0, c2]\n",
        "for label, color in zip(df['label'].unique(), colors):\n",
        "    mask = df['label']==label\n",
        "    plt.scatter(df[mask]['pc1'], df[mask]['pc2'], c=color, label=label)\n",
        "plt.legend()"
      ],
      "execution_count": 0,
      "outputs": []
    },
    {
      "cell_type": "markdown",
      "metadata": {
        "id": "DPYSNem5AuaF",
        "colab_type": "text"
      },
      "source": [
        "# k-NN Algorithm"
      ]
    },
    {
      "cell_type": "code",
      "metadata": {
        "id": "9jo3fcKxAqV-",
        "colab_type": "code",
        "colab": {}
      },
      "source": [
        "from sklearn.neighbors import KNeighborsClassifier\n",
        "from sklearn.model_selection import train_test_split\n",
        "ys=df['y'].astype(int).values\n",
        "subdf=df[['pc1','pc2']]\n",
        "subdfstd=(subdf - subdf.mean())/subdf.std()\n",
        "Xs=subdfstd.values\n",
        "def classify(X,y, nbrs, plotit=True, train_size=0.6):\n",
        "    Xtrain, Xtest, ytrain, ytest = train_test_split(X, y, train_size=train_size)\n",
        "    clf= KNeighborsClassifier(nbrs)\n",
        "    clf=clf.fit(Xtrain, ytrain)\n",
        "    #in sklearn accuracy can be found by using \"score\". It predicts and then gets the accuracy\n",
        "    training_accuracy = clf.score(Xtrain, ytrain)\n",
        "    test_accuracy = clf.score(Xtest, ytest)\n",
        "    Xall=np.concatenate((Xtrain, Xtest))\n",
        "    if plotit:\n",
        "        print(\"Accuracy on training data: %0.2f\" % (training_accuracy))\n",
        "        print(\"Accuracy on test data:     %0.2f\" % (test_accuracy))\n",
        "        plt.figure()\n",
        "        ax=plt.gca()\n",
        "        points_plot(ax, Xtrain, Xtest, ytrain, ytest, clf, alpha=0.3, psize=20)\n",
        "    return nbrs, training_accuracy, test_accuracy"
      ],
      "execution_count": 0,
      "outputs": []
    },
    {
      "cell_type": "code",
      "metadata": {
        "id": "lXXv3pwhA8-a",
        "colab_type": "code",
        "colab": {}
      },
      "source": [
        "classify(Xs,ys,1)"
      ],
      "execution_count": 0,
      "outputs": []
    },
    {
      "cell_type": "code",
      "metadata": {
        "id": "ccvTfPbHA_nQ",
        "colab_type": "code",
        "colab": {}
      },
      "source": [
        "classify(Xs,ys,50)#run this a few times"
      ],
      "execution_count": 0,
      "outputs": []
    },
    {
      "cell_type": "markdown",
      "metadata": {
        "id": "cBGbi_jyBHuE",
        "colab_type": "text"
      },
      "source": [
        "# Error Against Complexity (k) and cross-validation"
      ]
    },
    {
      "cell_type": "code",
      "metadata": {
        "id": "GXhaGd7oBFa0",
        "colab_type": "code",
        "colab": {}
      },
      "source": [
        "fits={}\n",
        "for k in np.arange(1,45,1):\n",
        "    fits[k]=[]\n",
        "    for i in range(200):\n",
        "        fits[k].append(classify(Xs, ys,k, False))\n",
        "nbrs=np.arange(1,45,1)\n",
        "fmeanstr = np.array([1.-np.mean([t[1] for t in fits[e]]) for e in nbrs])\n",
        "fmeanste = np.array([1.-np.mean([t[2] for t in fits[e]]) for e in nbrs])\n",
        "fstdsstr = np.array([np.std([t[1] for t in fits[e]]) for e in nbrs])\n",
        "fstdsste = np.array([np.std([t[2] for t in fits[e]]) for e in nbrs])"
      ],
      "execution_count": 0,
      "outputs": []
    },
    {
      "cell_type": "code",
      "metadata": {
        "id": "PCgPOIurBdQv",
        "colab_type": "code",
        "colab": {}
      },
      "source": [
        "plt.gca().invert_xaxis()\n",
        "plt.plot(nbrs, fmeanstr, color=c0, label=\"training\");\n",
        "plt.fill_between(nbrs, fmeanstr - fstdsstr, fmeanstr+fstdsstr, color=c0, alpha=0.3)\n",
        "plt.plot(nbrs, fmeanste, color=c1, label=\"testing\");\n",
        "plt.fill_between(nbrs, fmeanste - fstdsste, fmeanste+fstdsste, color=c1, alpha=0.5)\n",
        "\n",
        "plt.legend()"
      ],
      "execution_count": 0,
      "outputs": []
    },
    {
      "cell_type": "code",
      "metadata": {
        "id": "YymKpQGiB5Db",
        "colab_type": "code",
        "colab": {}
      },
      "source": [
        "def cv_optimize(clf, parameters, Xtrain, ytrain, n_folds=5):\n",
        "    gs = GridSearchCV(clf, param_grid=parameters, cv=n_folds)\n",
        "    gs.fit(Xtrain, ytrain)\n",
        "    print(\"BEST PARAMS\", gs.best_params_)\n",
        "    best = gs.best_estimator_\n",
        "    return best"
      ],
      "execution_count": 0,
      "outputs": []
    },
    {
      "cell_type": "code",
      "metadata": {
        "id": "KbaXiClUB_63",
        "colab_type": "code",
        "colab": {}
      },
      "source": [
        "from sklearn.model_selection import train_test_split\n",
        "def do_classify(clf, parameters, indf, featurenames, targetname, target1val, standardize=False, train_size=0.8):\n",
        "    subdf=indf[featurenames]\n",
        "    if standardize:\n",
        "        subdfstd=(subdf - subdf.mean())/subdf.std()\n",
        "    else:\n",
        "        subdfstd=subdf\n",
        "    X=subdfstd.values\n",
        "    y=(indf[targetname].values==target1val)*1\n",
        "    Xtrain, Xtest, ytrain, ytest = train_test_split(X, y, train_size=train_size)\n",
        "    clf = cv_optimize(clf, parameters, Xtrain, ytrain)\n",
        "    clf=clf.fit(Xtrain, ytrain)\n",
        "    training_accuracy = clf.score(Xtrain, ytrain)\n",
        "    test_accuracy = clf.score(Xtest, ytest)\n",
        "    print(\"Accuracy on training data: %0.2f\" % (training_accuracy))\n",
        "    print(\"Accuracy on test data:     %0.2f\" % (test_accuracy))\n",
        "    return clf, Xtrain, ytrain, Xtest, ytest"
      ],
      "execution_count": 0,
      "outputs": []
    },
    {
      "cell_type": "code",
      "metadata": {
        "id": "DDXwwO0nCJSp",
        "colab_type": "code",
        "colab": {}
      },
      "source": [
        "bestcv, Xtrain, ytrain, Xtest, ytest = do_classify(KNeighborsClassifier(), {\"n_neighbors\": range(1,40,2)}, df, ['pc1','pc2'], 'label', 'check')"
      ],
      "execution_count": 0,
      "outputs": []
    },
    {
      "cell_type": "code",
      "metadata": {
        "id": "0E10miNkCMba",
        "colab_type": "code",
        "colab": {}
      },
      "source": [
        "plt.figure()\n",
        "ax=plt.gca()\n",
        "points_plot(ax, Xtrain, Xtest, ytrain, ytest, bestcv, alpha=0.5, psize=20)"
      ],
      "execution_count": 0,
      "outputs": []
    },
    {
      "cell_type": "code",
      "metadata": {
        "id": "_8xQd87KCPZ8",
        "colab_type": "code",
        "colab": {}
      },
      "source": [
        "plt.figure()\n",
        "ax=plt.gca()\n",
        "points_plot_prob(ax, Xtrain, Xtest, ytrain, ytest, bestcv, alpha=0.5, psize=20)"
      ],
      "execution_count": 0,
      "outputs": []
    },
    {
      "cell_type": "code",
      "metadata": {
        "id": "FeoPSs_DCvyN",
        "colab_type": "code",
        "colab": {}
      },
      "source": [
        "?points_plot_prob"
      ],
      "execution_count": 0,
      "outputs": []
    },
    {
      "cell_type": "markdown",
      "metadata": {
        "id": "BPrVDL8yDEJQ",
        "colab_type": "text"
      },
      "source": [
        "# Evaluation"
      ]
    },
    {
      "cell_type": "code",
      "metadata": {
        "id": "fSia7Me0DB0h",
        "colab_type": "code",
        "colab": {}
      },
      "source": [
        "from sklearn.metrics import confusion_matrix, classification_report\n",
        "confusion_matrix(ytest, bestcv.predict(Xtest),)"
      ],
      "execution_count": 0,
      "outputs": []
    },
    {
      "cell_type": "markdown",
      "metadata": {
        "id": "FCTAWolLDKIP",
        "colab_type": "text"
      },
      "source": [
        "# Logistic Regression"
      ]
    },
    {
      "cell_type": "code",
      "metadata": {
        "id": "Grz-tQU2DIe9",
        "colab_type": "code",
        "colab": {}
      },
      "source": [
        "h = lambda z: 1./(1+np.exp(-z))\n",
        "zs=np.arange(-5,5,0.1)\n",
        "plt.plot(zs, h(zs), alpha=0.5)"
      ],
      "execution_count": 0,
      "outputs": []
    },
    {
      "cell_type": "code",
      "metadata": {
        "id": "qFzoqqi9DOzy",
        "colab_type": "code",
        "colab": {}
      },
      "source": [
        "dflog.head()"
      ],
      "execution_count": 0,
      "outputs": []
    },
    {
      "cell_type": "code",
      "metadata": {
        "id": "6glMCBliDR7b",
        "colab_type": "code",
        "colab": {}
      },
      "source": [
        "clf_l, Xtrain_l, ytrain_l, Xtest_l, ytest_l  = do_classify(LogisticRegression(), {\"C\": [0.01, 0.1, 1, 10, 100]}, dflog, ['Weight', 'Height'], 'Gender','Male')"
      ],
      "execution_count": 0,
      "outputs": []
    },
    {
      "cell_type": "code",
      "metadata": {
        "id": "IHy9FqXGDVG7",
        "colab_type": "code",
        "colab": {}
      },
      "source": [
        "plt.figure()\n",
        "ax=plt.gca()\n",
        "points_plot(ax, Xtrain_l, Xtest_l, ytrain_l, ytest_l, clf_l, alpha=0.2)"
      ],
      "execution_count": 0,
      "outputs": []
    },
    {
      "cell_type": "markdown",
      "metadata": {
        "id": "nQJyaXe4Db5r",
        "colab_type": "text"
      },
      "source": [
        "Maximizing the Probability of the training set"
      ]
    },
    {
      "cell_type": "code",
      "metadata": {
        "id": "8oYNqRaYDYPy",
        "colab_type": "code",
        "colab": {}
      },
      "source": [
        "clf_l.predict_proba(Xtest_l)"
      ],
      "execution_count": 0,
      "outputs": []
    },
    {
      "cell_type": "code",
      "metadata": {
        "id": "S_aqo9u_DgZT",
        "colab_type": "code",
        "outputId": "9074b517-31ff-46a3-bc0d-426fd8a8c092",
        "colab": {
          "base_uri": "https://localhost:8080/",
          "height": 474
        }
      },
      "source": [
        "plt.figure()\n",
        "ax=plt.gca()\n",
        "points_plot_prob(ax, Xtrain_l, Xtest_l, ytrain_l, ytest_l, clf_l, psize=20, alpha=0.1)"
      ],
      "execution_count": 24,
      "outputs": [
        {
          "output_type": "error",
          "ename": "NameError",
          "evalue": "ignored",
          "traceback": [
            "\u001b[0;31m---------------------------------------------------------------------------\u001b[0m",
            "\u001b[0;31mNameError\u001b[0m                                 Traceback (most recent call last)",
            "\u001b[0;32m<ipython-input-24-65385d280a6d>\u001b[0m in \u001b[0;36m<module>\u001b[0;34m()\u001b[0m\n\u001b[1;32m      1\u001b[0m \u001b[0mplt\u001b[0m\u001b[0;34m.\u001b[0m\u001b[0mfigure\u001b[0m\u001b[0;34m(\u001b[0m\u001b[0;34m)\u001b[0m\u001b[0;34m\u001b[0m\u001b[0;34m\u001b[0m\u001b[0m\n\u001b[1;32m      2\u001b[0m \u001b[0max\u001b[0m\u001b[0;34m=\u001b[0m\u001b[0mplt\u001b[0m\u001b[0;34m.\u001b[0m\u001b[0mgca\u001b[0m\u001b[0;34m(\u001b[0m\u001b[0;34m)\u001b[0m\u001b[0;34m\u001b[0m\u001b[0;34m\u001b[0m\u001b[0m\n\u001b[0;32m----> 3\u001b[0;31m \u001b[0mpoints_plot_prob\u001b[0m\u001b[0;34m(\u001b[0m\u001b[0max\u001b[0m\u001b[0;34m,\u001b[0m \u001b[0mXtrain_l\u001b[0m\u001b[0;34m,\u001b[0m \u001b[0mXtest_l\u001b[0m\u001b[0;34m,\u001b[0m \u001b[0mytrain_l\u001b[0m\u001b[0;34m,\u001b[0m \u001b[0mytest_l\u001b[0m\u001b[0;34m,\u001b[0m \u001b[0mclf_l\u001b[0m\u001b[0;34m,\u001b[0m \u001b[0mpsize\u001b[0m\u001b[0;34m=\u001b[0m\u001b[0;36m20\u001b[0m\u001b[0;34m,\u001b[0m \u001b[0malpha\u001b[0m\u001b[0;34m=\u001b[0m\u001b[0;36m0.1\u001b[0m\u001b[0;34m)\u001b[0m\u001b[0;34m\u001b[0m\u001b[0;34m\u001b[0m\u001b[0m\n\u001b[0m",
            "\u001b[0;31mNameError\u001b[0m: name 'Xtrain_l' is not defined"
          ]
        },
        {
          "output_type": "display_data",
          "data": {
            "image/png": "[encoded data removed]",
            "text/plain": [
              "<Figure size 432x288 with 1 Axes>"
            ]
          },
          "metadata": {
            "tags": []
          }
        }
      ]
    }
  ]
}